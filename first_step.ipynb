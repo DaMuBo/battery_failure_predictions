{
 "cells": [
  {
   "cell_type": "markdown",
   "metadata": {},
   "source": [
    "# Aufgaben\n",
    "Das Notebook bereitet die Quelldaten auf um die in späteren Programmen weiter zu verarbeiten. \n",
    "Dazu werden die Daten eingelesen und die Untervektoren für jeden Zyklus aufbereitet.\n",
    "Diese Daten werden dann als neue CSV abgespeichert"
   ]
  },
  {
   "cell_type": "code",
   "execution_count": 1,
   "metadata": {},
   "outputs": [],
   "source": [
    "import os\n",
    "\n",
    "import numpy as np\n",
    "import pandas as pd\n",
    "\n",
    "from functions import get_folder\n",
    "\n",
    "c_fold = get_folder()\n",
    "d_fold = c_fold + '\\data\\CSV' \n",
    "p_fold = c_fold + '\\data\\Prepared'"
   ]
  },
  {
   "cell_type": "code",
   "execution_count": 2,
   "metadata": {},
   "outputs": [
    {
     "name": "stdout",
     "output_type": "stream",
     "text": [
      "RW1.csv\n",
      "RW10.csv\n",
      "RW11.csv\n",
      "RW12.csv\n",
      "RW13.csv\n",
      "RW14.csv\n",
      "RW15.csv\n",
      "RW16.csv\n",
      "RW17.csv\n",
      "RW18.csv\n",
      "RW19.csv\n",
      "RW2.csv\n",
      "RW20.csv\n",
      "RW21.csv\n",
      "RW22.csv\n",
      "RW23.csv\n",
      "RW24.csv\n",
      "RW25.csv\n",
      "RW26.csv\n",
      "RW27.csv\n",
      "RW28.csv\n",
      "RW3.csv\n",
      "RW4.csv\n",
      "RW5.csv\n",
      "RW6.csv\n",
      "RW7.csv\n",
      "RW8.csv\n",
      "RW9.csv\n"
     ]
    }
   ],
   "source": [
    "for file in os.listdir(d_fold):\n",
    "    if '.csv' in file:\n",
    "        print(file)\n",
    "        batname = file.replace('.csv','')\n",
    "        tempdf = pd.read_csv(f\"{d_fold}\\\\{file}\")\n",
    "        \n",
    "        zyklus = 0\n",
    "        liste = []\n",
    "        for dfindex, dfrow in tempdf.iterrows():\n",
    "            timelist = list(map(float,dfrow['time'].replace('c(','').replace(')','').split(',')))\n",
    "            reltimelist = list(map(float,dfrow['relativeTime'].replace('c(','').replace(')','').split(',')))\n",
    "            voltlist = list(map(float,dfrow['voltage'].replace('c(','').replace(')','').split(',')))\n",
    "            currentlist = list(map(float,dfrow['current'].replace('c(','').replace(')','').split(',')))\n",
    "            temperlist = list(map(float,dfrow['temperature'].replace('c(','').replace(')','').split(',')))\n",
    "            for n in range(len(timelist)):\n",
    "                rows = [batname,dfindex,n,dfrow['comment'],dfrow['type'],timelist[n],reltimelist[n],voltlist[n],currentlist[n],temperlist[n],dfrow['date']]\n",
    "                liste.append(rows)    \n",
    "        newdf = pd.DataFrame(liste, columns = ['batteryname','zyklus','step','comment','type','time','relativeTime','voltage','current','temperature','date'])\n",
    "        print('Anzahl Einträge: ', len(liste))\n",
    "        newdf.to_csv(f\"{p_fold}\\\\prepared_{file}\", sep=',' )\n",
    "    #break\n"
   ]
  },
  {
   "cell_type": "code",
   "execution_count": null,
   "metadata": {},
   "outputs": [],
   "source": []
  }
 ],
 "metadata": {
  "kernelspec": {
   "display_name": "batfailpred",
   "language": "python",
   "name": "batfailpred"
  },
  "language_info": {
   "codemirror_mode": {
    "name": "ipython",
    "version": 3
   },
   "file_extension": ".py",
   "mimetype": "text/x-python",
   "name": "python",
   "nbconvert_exporter": "python",
   "pygments_lexer": "ipython3",
   "version": "3.8.8"
  }
 },
 "nbformat": 4,
 "nbformat_minor": 4
}
