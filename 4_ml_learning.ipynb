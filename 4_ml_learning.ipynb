{
 "cells": [
  {
   "cell_type": "markdown",
   "id": "ef07bec3-e601-47b4-aed3-6bdff99fc53c",
   "metadata": {},
   "source": [
    "# Learning the first decision tree stuff\n",
    "\n",
    "## Structure\n",
    "* Reading Packages\n",
    "* Preprocessing data\n",
    "* ML training\n",
    "* ML Evaluation\n",
    "* Model Saving"
   ]
  },
  {
   "cell_type": "markdown",
   "id": "438753cf-45cd-4dee-858c-1caa9cf77cc3",
   "metadata": {},
   "source": [
    "## Reading Packages"
   ]
  },
  {
   "cell_type": "code",
   "execution_count": 1,
   "id": "e0871901-6a3d-48fd-95f1-72b9f32f20d3",
   "metadata": {},
   "outputs": [],
   "source": [
    "import pandas as pd\n",
    "import numpy as np\n",
    "\n",
    "import os\n",
    "import sys\n",
    "import logging\n",
    "\n",
    "import functions as fu\n",
    "\n",
    "# Pfade setzen\n",
    "c_fold = fu.get_folder()\n",
    "p_fold = c_fold + '\\data\\Prepared'\n",
    "folder = c_fold + '\\data\\Processed'\n",
    "\n",
    "\n",
    "# Initialize Logging\n",
    "logging.basicConfig(format='[%(asctime)s] %(levelname)s: %(message)s',\n",
    "                    datefmt='%H:%M:%S',\n",
    "                    level=logging.INFO,\n",
    "                    handlers=[\n",
    "                        logging.FileHandler(\n",
    "                            filename='datalogger.log',\n",
    "                            mode='a',\n",
    "                            encoding='utf-8'),\n",
    "                        logging.StreamHandler(sys.stdout)])"
   ]
  },
  {
   "cell_type": "code",
   "execution_count": null,
   "id": "51c1cb9c-6ef6-4661-ab6a-3446a30d3f07",
   "metadata": {},
   "outputs": [
    {
     "name": "stdout",
     "output_type": "stream",
     "text": [
      "[20:16:16] INFO: <<< Started processing file: prepared_RW1.csv >>>\n",
      "[20:16:33] INFO: <<< Size of Dataframe: (2958840, 27) >>>\n",
      "[20:16:37] INFO: <<< Started processing file: prepared_RW10.csv >>>\n",
      "[20:18:04] INFO: <<< Files concatenated. Shape of new DF: (11554865, 27) >>>\n",
      "[20:18:30] INFO: <<< Started processing file: prepared_RW11.csv >>>\n",
      "[20:20:03] INFO: <<< Files concatenated. Shape of new DF: (20219375, 27) >>>\n"
     ]
    }
   ],
   "source": [
    "# import Full Data\n",
    "#df = fu.csv_einlesen(p_fold)\n",
    "\n",
    "df = None\n",
    "# import one dataset for developing\n",
    "for file in os.listdir(folder):\n",
    "    if \".csv\" in file:\n",
    "        if df is None:\n",
    "            logging.info(f\"<<< Started processing file: {file} >>>\")\n",
    "            df = pd.read_csv(f\"{folder}\\\\{file}\", index_col = 0)\n",
    "            logging.info(f\"<<< Size of Dataframe: {df.shape} >>>\")\n",
    "        else:\n",
    "            logging.info(f\"<<< Started processing file: {file} >>>\")\n",
    "            tmp = pd.read_csv(f\"{folder}\\\\{file}\", index_col = 0)\n",
    "            df = pd.concat([df,tmp])\n",
    "            logging.info(f\"<<< Files concatenated. Shape of new DF: {df.shape} >>>\")\n",
    "            \n",
    "        df[[\"batteryname\",'comment','type']] = df[[\"batteryname\",'comment','type']].astype(\"category\")\n",
    "        df[['time','relativeTime','voltage','current','temperature']] = df[['time','relativeTime','voltage','current','temperature']].apply(pd.to_numeric, downcast=\"float\")\n",
    "        df[['zyklus','step']] = df[['zyklus','step']].apply(pd.to_numeric, downcast=\"integer\")\n",
    "        \n",
    "        "
   ]
  },
  {
   "cell_type": "markdown",
   "id": "fc29241a-a6cb-4018-b1d3-f4cc539ac8b8",
   "metadata": {},
   "source": [
    "## Preprocessing data"
   ]
  },
  {
   "cell_type": "code",
   "execution_count": null,
   "id": "5085476e-d2cf-4758-b28f-7977930c361a",
   "metadata": {},
   "outputs": [],
   "source": []
  }
 ],
 "metadata": {
  "kernelspec": {
   "display_name": "aba_pr",
   "language": "python",
   "name": "aba_pr"
  },
  "language_info": {
   "codemirror_mode": {
    "name": "ipython",
    "version": 3
   },
   "file_extension": ".py",
   "mimetype": "text/x-python",
   "name": "python",
   "nbconvert_exporter": "python",
   "pygments_lexer": "ipython3",
   "version": "3.9.7"
  }
 },
 "nbformat": 4,
 "nbformat_minor": 5
}
