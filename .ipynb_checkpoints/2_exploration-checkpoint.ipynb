{
 "cells": [
  {
   "cell_type": "markdown",
   "metadata": {},
   "source": [
    "# Data Exploration\n",
    "Ziel ist es eine Übersicht über die Daten zu bekommen und diese besser zu verstehen.\n",
    "Dazu wird zuerst versucht diese komplett einzulesen und die Größe des gesamten Datensets zurückzugeben sowie ein paar Übersichten"
   ]
  },
  {
   "cell_type": "code",
   "execution_count": 14,
   "metadata": {},
   "outputs": [],
   "source": [
    "import os\n",
    "\n",
    "import pandas as pd\n",
    "import pandas_profiling as pd_profil\n",
    "\n",
    "import matplotlib as plt\n",
    "import seaborn as sns\n",
    "\n",
    "import functions as fu\n",
    "\n",
    "c_fold = fu.get_folder()\n",
    "p_fold = c_fold + '\\data\\Prepared'"
   ]
  },
  {
   "cell_type": "markdown",
   "metadata": {},
   "source": [
    "# Daten einlesen und zusammenführen"
   ]
  },
  {
   "cell_type": "code",
   "execution_count": null,
   "metadata": {},
   "outputs": [],
   "source": [
    "df = fu.csv_einlesen(p_fold)"
   ]
  },
  {
   "cell_type": "code",
   "execution_count": 16,
   "metadata": {},
   "outputs": [
    {
     "data": {
      "text/plain": [
       "(77700820, 11)"
      ]
     },
     "execution_count": 16,
     "metadata": {},
     "output_type": "execute_result"
    }
   ],
   "source": [
    "df.shape"
   ]
  },
  {
   "cell_type": "code",
   "execution_count": 17,
   "metadata": {},
   "outputs": [
    {
     "data": {
      "text/html": [
       "<div>\n",
       "<style scoped>\n",
       "    .dataframe tbody tr th:only-of-type {\n",
       "        vertical-align: middle;\n",
       "    }\n",
       "\n",
       "    .dataframe tbody tr th {\n",
       "        vertical-align: top;\n",
       "    }\n",
       "\n",
       "    .dataframe thead th {\n",
       "        text-align: right;\n",
       "    }\n",
       "</style>\n",
       "<table border=\"1\" class=\"dataframe\">\n",
       "  <thead>\n",
       "    <tr style=\"text-align: right;\">\n",
       "      <th></th>\n",
       "      <th>batteryname</th>\n",
       "      <th>zyklus</th>\n",
       "      <th>step</th>\n",
       "      <th>comment</th>\n",
       "      <th>type</th>\n",
       "      <th>time</th>\n",
       "      <th>relativeTime</th>\n",
       "      <th>voltage</th>\n",
       "      <th>current</th>\n",
       "      <th>temperature</th>\n",
       "      <th>date</th>\n",
       "    </tr>\n",
       "  </thead>\n",
       "  <tbody>\n",
       "    <tr>\n",
       "      <th>0</th>\n",
       "      <td>RW1</td>\n",
       "      <td>0</td>\n",
       "      <td>0</td>\n",
       "      <td>low current discharge at 0.04A</td>\n",
       "      <td>D</td>\n",
       "      <td>1538.07</td>\n",
       "      <td>0.15</td>\n",
       "      <td>4.196</td>\n",
       "      <td>0.018</td>\n",
       "      <td>18.37451</td>\n",
       "      <td>30-Dec-2013 15:53:29</td>\n",
       "    </tr>\n",
       "    <tr>\n",
       "      <th>1</th>\n",
       "      <td>RW1</td>\n",
       "      <td>0</td>\n",
       "      <td>1</td>\n",
       "      <td>low current discharge at 0.04A</td>\n",
       "      <td>D</td>\n",
       "      <td>1548.07</td>\n",
       "      <td>10.15</td>\n",
       "      <td>4.192</td>\n",
       "      <td>0.040</td>\n",
       "      <td>18.37451</td>\n",
       "      <td>30-Dec-2013 15:53:29</td>\n",
       "    </tr>\n",
       "    <tr>\n",
       "      <th>2</th>\n",
       "      <td>RW1</td>\n",
       "      <td>0</td>\n",
       "      <td>2</td>\n",
       "      <td>low current discharge at 0.04A</td>\n",
       "      <td>D</td>\n",
       "      <td>1558.07</td>\n",
       "      <td>20.15</td>\n",
       "      <td>4.191</td>\n",
       "      <td>0.040</td>\n",
       "      <td>18.37451</td>\n",
       "      <td>30-Dec-2013 15:53:29</td>\n",
       "    </tr>\n",
       "    <tr>\n",
       "      <th>3</th>\n",
       "      <td>RW1</td>\n",
       "      <td>0</td>\n",
       "      <td>3</td>\n",
       "      <td>low current discharge at 0.04A</td>\n",
       "      <td>D</td>\n",
       "      <td>1568.07</td>\n",
       "      <td>30.15</td>\n",
       "      <td>4.191</td>\n",
       "      <td>0.040</td>\n",
       "      <td>18.37451</td>\n",
       "      <td>30-Dec-2013 15:53:29</td>\n",
       "    </tr>\n",
       "    <tr>\n",
       "      <th>4</th>\n",
       "      <td>RW1</td>\n",
       "      <td>0</td>\n",
       "      <td>4</td>\n",
       "      <td>low current discharge at 0.04A</td>\n",
       "      <td>D</td>\n",
       "      <td>1578.07</td>\n",
       "      <td>40.15</td>\n",
       "      <td>4.190</td>\n",
       "      <td>0.040</td>\n",
       "      <td>18.39025</td>\n",
       "      <td>30-Dec-2013 15:53:29</td>\n",
       "    </tr>\n",
       "  </tbody>\n",
       "</table>\n",
       "</div>"
      ],
      "text/plain": [
       "  batteryname  zyklus  step                         comment type     time  \\\n",
       "0         RW1       0     0  low current discharge at 0.04A    D  1538.07   \n",
       "1         RW1       0     1  low current discharge at 0.04A    D  1548.07   \n",
       "2         RW1       0     2  low current discharge at 0.04A    D  1558.07   \n",
       "3         RW1       0     3  low current discharge at 0.04A    D  1568.07   \n",
       "4         RW1       0     4  low current discharge at 0.04A    D  1578.07   \n",
       "\n",
       "   relativeTime  voltage  current  temperature                  date  \n",
       "0          0.15    4.196    0.018     18.37451  30-Dec-2013 15:53:29  \n",
       "1         10.15    4.192    0.040     18.37451  30-Dec-2013 15:53:29  \n",
       "2         20.15    4.191    0.040     18.37451  30-Dec-2013 15:53:29  \n",
       "3         30.15    4.191    0.040     18.37451  30-Dec-2013 15:53:29  \n",
       "4         40.15    4.190    0.040     18.39025  30-Dec-2013 15:53:29  "
      ]
     },
     "execution_count": 17,
     "metadata": {},
     "output_type": "execute_result"
    }
   ],
   "source": [
    "df.head()"
   ]
  },
  {
   "cell_type": "code",
   "execution_count": 18,
   "metadata": {},
   "outputs": [
    {
     "data": {
      "text/plain": [
       "<bound method NDFrame.describe of          batteryname  zyklus  step                         comment type  \\\n",
       "0                RW1       0     0  low current discharge at 0.04A    D   \n",
       "1                RW1       0     1  low current discharge at 0.04A    D   \n",
       "2                RW1       0     2  low current discharge at 0.04A    D   \n",
       "3                RW1       0     3  low current discharge at 0.04A    D   \n",
       "4                RW1       0     4  low current discharge at 0.04A    D   \n",
       "...              ...     ...   ...                             ...  ...   \n",
       "77700815         RW9  113577   716   rest post reference discharge    R   \n",
       "77700816         RW9  113577   717   rest post reference discharge    R   \n",
       "77700817         RW9  113577   718   rest post reference discharge    R   \n",
       "77700818         RW9  113577   719   rest post reference discharge    R   \n",
       "77700819         RW9  113577   720   rest post reference discharge    R   \n",
       "\n",
       "                 time  relativeTime  voltage  current  temperature  \\\n",
       "0             1538.07          0.15    4.196    0.018     18.37451   \n",
       "1             1548.07         10.15    4.192    0.040     18.37451   \n",
       "2             1558.07         20.15    4.191    0.040     18.37451   \n",
       "3             1568.07         30.15    4.191    0.040     18.37451   \n",
       "4             1578.07         40.15    4.190    0.040     18.39025   \n",
       "...               ...           ...      ...      ...          ...   \n",
       "77700815  12713339.64       7160.01    3.801    0.000     33.31358   \n",
       "77700816  12713349.64       7170.01    3.801    0.000     33.31358   \n",
       "77700817  12713359.64       7180.01    3.801    0.000     33.29812   \n",
       "77700818  12713369.64       7190.01    3.801    0.000     33.29812   \n",
       "77700819  12713379.63       7200.00    3.801    0.000     33.29812   \n",
       "\n",
       "                          date  \n",
       "0         30-Dec-2013 15:53:29  \n",
       "1         30-Dec-2013 15:53:29  \n",
       "2         30-Dec-2013 15:53:29  \n",
       "3         30-Dec-2013 15:53:29  \n",
       "4         30-Dec-2013 15:53:29  \n",
       "...                        ...  \n",
       "77700815  02-Jun-2014 10:36:45  \n",
       "77700816  02-Jun-2014 10:36:45  \n",
       "77700817  02-Jun-2014 10:36:45  \n",
       "77700818  02-Jun-2014 10:36:45  \n",
       "77700819  02-Jun-2014 10:36:45  \n",
       "\n",
       "[77700820 rows x 11 columns]>"
      ]
     },
     "execution_count": 18,
     "metadata": {},
     "output_type": "execute_result"
    }
   ],
   "source": [
    "df.describe"
   ]
  },
  {
   "cell_type": "code",
   "execution_count": null,
   "metadata": {},
   "outputs": [
    {
     "data": {
      "application/vnd.jupyter.widget-view+json": {
       "model_id": "78000949958247cc94cb8a52f9e7fd45",
       "version_major": 2,
       "version_minor": 0
      },
      "text/plain": [
       "Summarize dataset:   0%|          | 0/5 [00:00<?, ?it/s]"
      ]
     },
     "metadata": {},
     "output_type": "display_data"
    }
   ],
   "source": [
    "pd_profil.ProfileReport(df)"
   ]
  },
  {
   "cell_type": "code",
   "execution_count": null,
   "metadata": {},
   "outputs": [],
   "source": [
    "profile = pd_profil.ProfileReport(df)\n",
    "profile.to_file(f\"{c_fold}\\\\models\\\\explorationreport.html\")"
   ]
  },
  {
   "cell_type": "code",
   "execution_count": null,
   "metadata": {},
   "outputs": [],
   "source": []
  }
 ],
 "metadata": {
  "kernelspec": {
   "display_name": "batfailpred",
   "language": "python",
   "name": "batfailpred"
  },
  "language_info": {
   "codemirror_mode": {
    "name": "ipython",
    "version": 3
   },
   "file_extension": ".py",
   "mimetype": "text/x-python",
   "name": "python",
   "nbconvert_exporter": "python",
   "pygments_lexer": "ipython3",
   "version": "3.8.3"
  }
 },
 "nbformat": 4,
 "nbformat_minor": 4
}
