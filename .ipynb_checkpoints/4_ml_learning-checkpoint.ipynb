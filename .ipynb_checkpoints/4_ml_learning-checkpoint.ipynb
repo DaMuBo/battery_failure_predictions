{
 "cells": [
  {
   "cell_type": "markdown",
   "id": "ef07bec3-e601-47b4-aed3-6bdff99fc53c",
   "metadata": {},
   "source": [
    "# Learning the first decision tree stuff\n",
    "\n",
    "## Structure\n",
    "* Reading Packages\n",
    "* Preprocessing data\n",
    "* ML training\n",
    "* ML Evaluation\n",
    "* Model Saving"
   ]
  },
  {
   "cell_type": "code",
   "execution_count": null,
   "id": "e0871901-6a3d-48fd-95f1-72b9f32f20d3",
   "metadata": {},
   "outputs": [],
   "source": [
    "import pandas as pd\n",
    "import numpy as np\n",
    "\n",
    "import os\n",
    "import sys\n",
    "import logging"
   ]
  }
 ],
 "metadata": {
  "kernelspec": {
   "display_name": "batfailpred",
   "language": "python",
   "name": "batfailpred"
  },
  "language_info": {
   "codemirror_mode": {
    "name": "ipython",
    "version": 3
   },
   "file_extension": ".py",
   "mimetype": "text/x-python",
   "name": "python",
   "nbconvert_exporter": "python",
   "pygments_lexer": "ipython3",
   "version": "3.8.8"
  }
 },
 "nbformat": 4,
 "nbformat_minor": 5
}
