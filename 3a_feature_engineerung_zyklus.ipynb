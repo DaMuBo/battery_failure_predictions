{
 "cells": [
  {
   "cell_type": "markdown",
   "id": "3c6c78da-83d2-46f0-8a28-f902ce3a1b99",
   "metadata": {},
   "source": [
    "## Erstmal auf den Zyklus gruppieren und dann Features erstellen\n",
    "\n",
    "offen:\n",
    "- Zyklen vorher - ges Zeit an entlade klaaen und warm + Anz Zyklen vorher\n",
    "- Feature Auswahl\n",
    "- nur Ref Discharge filtern\n",
    "- in ein DF\n",
    "- Zielvariable berechnen (current und RelTime als Features raus) "
   ]
  },
  {
   "cell_type": "markdown",
   "id": "9c6986c0-de34-4f5f-968f-dd83a02293c6",
   "metadata": {},
   "source": [
    "### Import"
   ]
  },
  {
   "cell_type": "code",
   "execution_count": 1,
   "id": "0a6d0857-77d6-4604-9851-46e5c3d2ac8f",
   "metadata": {},
   "outputs": [],
   "source": [
    "import pandas as pd\n",
    "import numpy as np\n",
    "\n",
    "import os\n",
    "import sys\n",
    "import logging\n",
    "\n",
    "import functions as fu\n",
    "from feature_engineering import *\n",
    "\n",
    "# Pfade setzen\n",
    "c_fold = fu.get_folder()\n",
    "p_fold = c_fold + '\\data\\Prepared'\n",
    "folder = c_fold + '\\data\\Processed\\Zyklus'\n",
    "\n",
    "\n",
    "# Initialize Logging\n",
    "logging.basicConfig(format='[%(asctime)s] %(levelname)s: %(message)s',\n",
    "                    datefmt='%H:%M:%S',\n",
    "                    level=logging.INFO,\n",
    "                    handlers=[\n",
    "                        logging.FileHandler(\n",
    "                            filename='datalogger.log',\n",
    "                            mode='a',\n",
    "                            encoding='utf-8'),\n",
    "                        logging.StreamHandler(sys.stdout)])"
   ]
  },
  {
   "cell_type": "code",
   "execution_count": 43,
   "id": "071d6ddd-c67a-4b48-bd07-2d11430abd79",
   "metadata": {
    "tags": []
   },
   "outputs": [
    {
     "name": "stdout",
     "output_type": "stream",
     "text": [
      "[09:10:55] INFO: <<< Started processing file: prepared_RW1.csv >>>\n",
      "[09:11:00] INFO: <<< Size of Dataframe: (2958840, 11) >>>\n",
      "[09:11:02] INFO: <<< Start saving dataframe with shape (17065, 21) >>>\n",
      "[09:11:02] INFO: <<< Saved processed file in directory C:\\Users\\sebis\\OneDrive\\Desktop\\FOM\\3. Semester\\Big Data Analyseprojekt\\battery_failure_predictions\\data\\Processed\\Zyklus\\processed_RW1.csv >>>\n"
     ]
    }
   ],
   "source": [
    "def stark_leicht(type_, current_mean, relativeTime_amax):\n",
    "    entladen_stark = 0\n",
    "    entladen_leicht = 0\n",
    "    laden_stark = 0\n",
    "    laden_leicht = 0\n",
    "    pause = 0\n",
    "    \n",
    "    \n",
    "    if type_ == 'D': #discharge\n",
    "        if current_mean >= 3:\n",
    "            entladen_stark = relativeTime_amax\n",
    "        else:\n",
    "            entladen_leicht = relativeTime_amax\n",
    "    if type_ == 'C': #charge\n",
    "        if current_mean <= -3:\n",
    "            laden_stark = relativeTime_amax\n",
    "        else:\n",
    "            laden_leicht = relativeTime_amax\n",
    "    if type_ == 'R':\n",
    "        pause = relativeTime_amax\n",
    "    return entladen_stark, entladen_leicht, laden_stark, laden_leicht, pause\n",
    "\n",
    "    \n",
    "\n",
    "def temp_hoch(temperature_amax, relativeTime_amax):\n",
    "    temp_hoch = 0\n",
    "    if temperature_amax >= 30:\n",
    "        return relativeTime_amax\n",
    "    else:\n",
    "        return 0\n",
    "        \n",
    "\n",
    "# for file in os.listdir(p_fold):\n",
    "#     if \".csv\" in file:\n",
    "file = \"prepared_RW1.csv\"\n",
    "logging.info(f\"<<< Started processing file: {file} >>>\")\n",
    "new_filename = file.replace(\"prepared\",\"processed\")\n",
    "\n",
    "df = pd.read_csv(f\"{p_fold}\\\\{file}\", index_col = 0,\n",
    "                         #nrows= 100000\n",
    "                        )\n",
    "logging.info(f\"<<< Size of Dataframe: {df.shape} >>>\")\n",
    "\n",
    "#Auf Ebene Batterie + Zyklus gruppieren mit benötigten Aggregationen\n",
    "df_pv = pd.pivot_table(\n",
    "   df,\n",
    "   index=['batteryname','zyklus','comment','type'],\n",
    "   aggfunc={'time': np.min, 'relativeTime':  np.max, 'voltage': [np.min, np.max, np.mean], 'current': [np.min, np.max, np.mean], 'temperature': [np.min, np.max, np.mean]}\n",
    ").reset_index()\n",
    "\n",
    "df_pv.columns = ['_'.join(col) for col in list(df_pv.columns)]\n",
    "\n",
    "\n",
    "\n",
    "df_pv['time_entladen_stark'],df_pv['time_entladen_leicht'],df_pv['time_laden_stark'],df_pv['time_laden_leicht'],df_pv['time_pause']  = zip(*df_pv.apply(lambda x: stark_leicht(x['type_'],x['current_mean'],x['relativeTime_amax']),axis=1))\n",
    "#Lade\n",
    "\n",
    "df_pv['time_temp_hoch'] = df_pv.apply(lambda x: temp_hoch(x['temperature_amax'],x['relativeTime_amax']),axis=1)\n",
    "\n",
    "\n",
    "logging.info(f\"<<< Start saving dataframe with shape {df_pv.shape} >>>\")\n",
    "df_pv.to_csv(f\"{folder}\\\\{new_filename}\", sep=',', index=False)\n",
    "logging.info(f\"<<< Saved processed file in directory {folder}\\\\{new_filename} >>>\")"
   ]
  },
  {
   "cell_type": "code",
   "execution_count": 41,
   "id": "ccc747c9-ed43-4452-b99b-9153eb74af93",
   "metadata": {},
   "outputs": [
    {
     "data": {
      "text/plain": [
       "(0, 1)"
      ]
     },
     "execution_count": 41,
     "metadata": {},
     "output_type": "execute_result"
    }
   ],
   "source": [
    "stark_leicht(\"D\",2,1)"
   ]
  },
  {
   "cell_type": "code",
   "execution_count": 35,
   "id": "7061743f-02d2-41a9-a4e5-1a1f4f5eb76f",
   "metadata": {},
   "outputs": [
    {
     "data": {
      "text/plain": [
       "pause              9085\n",
       "entladen leicht    5003\n",
       "entladen stark     1696\n",
       "laden leicht       1281\n",
       "Name: ladearten, dtype: int64"
      ]
     },
     "execution_count": 35,
     "metadata": {},
     "output_type": "execute_result"
    }
   ],
   "source": []
  },
  {
   "cell_type": "code",
   "execution_count": null,
   "id": "f61bd04a-0dbf-478f-a61e-43b5302a2d97",
   "metadata": {},
   "outputs": [],
   "source": []
  }
 ],
 "metadata": {
  "kernelspec": {
   "display_name": "battery_failure",
   "language": "python",
   "name": "battery_failure"
  },
  "language_info": {
   "codemirror_mode": {
    "name": "ipython",
    "version": 3
   },
   "file_extension": ".py",
   "mimetype": "text/x-python",
   "name": "python",
   "nbconvert_exporter": "python",
   "pygments_lexer": "ipython3",
   "version": "3.8.12"
  }
 },
 "nbformat": 4,
 "nbformat_minor": 5
}
