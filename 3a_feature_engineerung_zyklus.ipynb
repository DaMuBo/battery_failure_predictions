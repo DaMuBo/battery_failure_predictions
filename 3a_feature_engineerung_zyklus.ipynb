{
 "cells": [
  {
   "cell_type": "markdown",
   "id": "3c6c78da-83d2-46f0-8a28-f902ce3a1b99",
   "metadata": {},
   "source": [
    "## Erstmal auf den Zyklus gruppieren und dann Features erstellen"
   ]
  },
  {
   "cell_type": "markdown",
   "id": "9c6986c0-de34-4f5f-968f-dd83a02293c6",
   "metadata": {},
   "source": [
    "### Import"
   ]
  },
  {
   "cell_type": "code",
   "execution_count": 1,
   "id": "0a6d0857-77d6-4604-9851-46e5c3d2ac8f",
   "metadata": {},
   "outputs": [],
   "source": [
    "import pandas as pd\n",
    "import numpy as np\n",
    "\n",
    "import os\n",
    "import sys\n",
    "import logging\n",
    "\n",
    "import functions as fu\n",
    "from feature_engineering import *\n",
    "\n",
    "# Pfade setzen\n",
    "c_fold = fu.get_folder()\n",
    "p_fold = c_fold + '\\data\\Prepared'\n",
    "folder = c_fold + '\\data\\Processed\\Zyklus'\n",
    "\n",
    "\n",
    "# Initialize Logging\n",
    "logging.basicConfig(format='[%(asctime)s] %(levelname)s: %(message)s',\n",
    "                    datefmt='%H:%M:%S',\n",
    "                    level=logging.INFO,\n",
    "                    handlers=[\n",
    "                        logging.FileHandler(\n",
    "                            filename='datalogger.log',\n",
    "                            mode='a',\n",
    "                            encoding='utf-8'),\n",
    "                        logging.StreamHandler(sys.stdout)])"
   ]
  },
  {
   "cell_type": "code",
   "execution_count": null,
   "id": "071d6ddd-c67a-4b48-bd07-2d11430abd79",
   "metadata": {},
   "outputs": [
    {
     "name": "stdout",
     "output_type": "stream",
     "text": [
      "[07:52:07] INFO: <<< Started processing file: prepared_RW1.csv >>>\n",
      "[07:52:11] INFO: <<< Size of Dataframe: (2958840, 11) >>>\n",
      "[07:52:12] INFO: <<< Start saving dataframe with shape (17065, 15) >>>\n",
      "[07:52:12] INFO: <<< Saved processed file in directory C:\\Users\\sebis\\OneDrive\\Desktop\\FOM\\3. Semester\\Big Data Analyseprojekt\\battery_failure_predictions\\data\\Processed\\Zyklus\\prepared_RW1.csv >>>\n",
      "[07:52:12] INFO: <<< Started processing file: prepared_RW10.csv >>>\n",
      "[07:52:26] INFO: <<< Size of Dataframe: (8596025, 11) >>>\n",
      "[07:52:28] INFO: <<< Start saving dataframe with shape (110818, 15) >>>\n",
      "[07:52:29] INFO: <<< Saved processed file in directory C:\\Users\\sebis\\OneDrive\\Desktop\\FOM\\3. Semester\\Big Data Analyseprojekt\\battery_failure_predictions\\data\\Processed\\Zyklus\\prepared_RW10.csv >>>\n",
      "[07:52:29] INFO: <<< Started processing file: prepared_RW11.csv >>>\n",
      "[07:52:43] INFO: <<< Size of Dataframe: (8664510, 11) >>>\n",
      "[07:52:45] INFO: <<< Start saving dataframe with shape (109389, 15) >>>\n",
      "[07:52:46] INFO: <<< Saved processed file in directory C:\\Users\\sebis\\OneDrive\\Desktop\\FOM\\3. Semester\\Big Data Analyseprojekt\\battery_failure_predictions\\data\\Processed\\Zyklus\\prepared_RW11.csv >>>\n",
      "[07:52:46] INFO: <<< Started processing file: prepared_RW12.csv >>>\n",
      "[07:52:59] INFO: <<< Size of Dataframe: (8638882, 11) >>>\n",
      "[07:53:01] INFO: <<< Start saving dataframe with shape (110013, 15) >>>\n",
      "[07:53:02] INFO: <<< Saved processed file in directory C:\\Users\\sebis\\OneDrive\\Desktop\\FOM\\3. Semester\\Big Data Analyseprojekt\\battery_failure_predictions\\data\\Processed\\Zyklus\\prepared_RW12.csv >>>\n",
      "[07:53:02] INFO: <<< Started processing file: prepared_RW13.csv >>>\n",
      "[07:53:05] INFO: <<< Size of Dataframe: (2058466, 11) >>>\n",
      "[07:53:06] INFO: <<< Start saving dataframe with shape (56049, 15) >>>\n",
      "[07:53:07] INFO: <<< Saved processed file in directory C:\\Users\\sebis\\OneDrive\\Desktop\\FOM\\3. Semester\\Big Data Analyseprojekt\\battery_failure_predictions\\data\\Processed\\Zyklus\\prepared_RW13.csv >>>\n",
      "[07:53:07] INFO: <<< Started processing file: prepared_RW14.csv >>>\n",
      "[07:53:09] INFO: <<< Size of Dataframe: (1731073, 11) >>>\n",
      "[07:53:10] INFO: <<< Start saving dataframe with shape (45868, 15) >>>\n",
      "[07:53:10] INFO: <<< Saved processed file in directory C:\\Users\\sebis\\OneDrive\\Desktop\\FOM\\3. Semester\\Big Data Analyseprojekt\\battery_failure_predictions\\data\\Processed\\Zyklus\\prepared_RW14.csv >>>\n",
      "[07:53:10] INFO: <<< Started processing file: prepared_RW15.csv >>>\n",
      "[07:53:13] INFO: <<< Size of Dataframe: (1790880, 11) >>>\n",
      "[07:53:13] INFO: <<< Start saving dataframe with shape (47720, 15) >>>\n",
      "[07:53:14] INFO: <<< Saved processed file in directory C:\\Users\\sebis\\OneDrive\\Desktop\\FOM\\3. Semester\\Big Data Analyseprojekt\\battery_failure_predictions\\data\\Processed\\Zyklus\\prepared_RW15.csv >>>\n",
      "[07:53:14] INFO: <<< Started processing file: prepared_RW16.csv >>>\n",
      "[07:53:16] INFO: <<< Size of Dataframe: (1563555, 11) >>>\n",
      "[07:53:17] INFO: <<< Start saving dataframe with shape (42366, 15) >>>\n",
      "[07:53:17] INFO: <<< Saved processed file in directory C:\\Users\\sebis\\OneDrive\\Desktop\\FOM\\3. Semester\\Big Data Analyseprojekt\\battery_failure_predictions\\data\\Processed\\Zyklus\\prepared_RW16.csv >>>\n",
      "[07:53:17] INFO: <<< Started processing file: prepared_RW17.csv >>>\n",
      "[07:53:19] INFO: <<< Size of Dataframe: (1276444, 11) >>>\n",
      "[07:53:19] INFO: <<< Start saving dataframe with shape (30912, 15) >>>\n",
      "[07:53:20] INFO: <<< Saved processed file in directory C:\\Users\\sebis\\OneDrive\\Desktop\\FOM\\3. Semester\\Big Data Analyseprojekt\\battery_failure_predictions\\data\\Processed\\Zyklus\\prepared_RW17.csv >>>\n",
      "[07:53:20] INFO: <<< Started processing file: prepared_RW18.csv >>>\n",
      "[07:53:21] INFO: <<< Size of Dataframe: (1298508, 11) >>>\n",
      "[07:53:22] INFO: <<< Start saving dataframe with shape (31877, 15) >>>\n",
      "[07:53:22] INFO: <<< Saved processed file in directory C:\\Users\\sebis\\OneDrive\\Desktop\\FOM\\3. Semester\\Big Data Analyseprojekt\\battery_failure_predictions\\data\\Processed\\Zyklus\\prepared_RW18.csv >>>\n",
      "[07:53:22] INFO: <<< Started processing file: prepared_RW19.csv >>>\n"
     ]
    }
   ],
   "source": [
    "for file in os.listdir(p_fold):\n",
    "    if \".csv\" in file:\n",
    "        logging.info(f\"<<< Started processing file: {file} >>>\")\n",
    "        df = pd.read_csv(f\"{p_fold}\\\\{file}\", index_col = 0,\n",
    "                                 #nrows= 100000\n",
    "                                )\n",
    "        logging.info(f\"<<< Size of Dataframe: {df.shape} >>>\")\n",
    "        \n",
    "        #Auf Ebene Batterie + Zyklus gruppieren mit benötigten Aggregationen\n",
    "        df_pv = pd.pivot_table(\n",
    "           df,\n",
    "           index=['batteryname','zyklus','comment','type'],\n",
    "           aggfunc={'time': np.min, 'relativeTime': np.max, 'voltage': [np.min, np.max, np.mean], 'current': [np.min, np.max, np.mean], 'temperature': [np.min, np.max, np.mean]}\n",
    "        ).reset_index()\n",
    "        \n",
    "        df_pv.columns = ['_'.join(col) for col in list(df_pv.columns)]\n",
    "        \n",
    "        \n",
    "        logging.info(f\"<<< Start saving dataframe with shape {df_pv.shape} >>>\")\n",
    "        df_pv.to_csv(f\"{folder}\\\\{file}\", sep=',', index=False)\n",
    "        logging.info(f\"<<< Saved processed file in directory {folder}\\\\{file} >>>\")"
   ]
  },
  {
   "cell_type": "code",
   "execution_count": null,
   "id": "ccc747c9-ed43-4452-b99b-9153eb74af93",
   "metadata": {},
   "outputs": [],
   "source": []
  }
 ],
 "metadata": {
  "kernelspec": {
   "display_name": "battery_failure",
   "language": "python",
   "name": "battery_failure"
  },
  "language_info": {
   "codemirror_mode": {
    "name": "ipython",
    "version": 3
   },
   "file_extension": ".py",
   "mimetype": "text/x-python",
   "name": "python",
   "nbconvert_exporter": "python",
   "pygments_lexer": "ipython3",
   "version": "3.8.12"
  }
 },
 "nbformat": 4,
 "nbformat_minor": 5
}
