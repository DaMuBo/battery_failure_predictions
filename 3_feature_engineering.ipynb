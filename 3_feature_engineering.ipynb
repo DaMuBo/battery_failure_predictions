{
 "cells": [
  {
   "cell_type": "markdown",
   "metadata": {},
   "source": [
    "# Importing Data and defining functions for feature engineering\n",
    "\n",
    "1. Import Modules\n",
    "2. Import data\n",
    "3. Defining of functions\n",
    "4. Applying and testing"
   ]
  },
  {
   "cell_type": "markdown",
   "metadata": {},
   "source": [
    "## Importing Modules"
   ]
  },
  {
   "cell_type": "code",
   "execution_count": 1,
   "metadata": {},
   "outputs": [],
   "source": [
    "import pandas as pd\n",
    "import numpy as np\n",
    "\n",
    "import functions as fu\n",
    "from feature_engineering import *\n",
    "\n",
    "# Pfade setzen\n",
    "c_fold = fu.get_folder()\n",
    "p_fold = c_fold + '\\data\\Prepared'"
   ]
  },
  {
   "cell_type": "markdown",
   "metadata": {},
   "source": [
    "# Importing Data"
   ]
  },
  {
   "cell_type": "code",
   "execution_count": 2,
   "metadata": {},
   "outputs": [
    {
     "name": "stdout",
     "output_type": "stream",
     "text": [
      "Size of Dataframe:  (1222375, 11)\n"
     ]
    }
   ],
   "source": [
    "# import Full Data\n",
    "#df = fu.csv_einlesen(p_fold)\n",
    "\n",
    "\n",
    "# import one dataset for developing\n",
    "df = pd.read_csv(f\"{p_fold}\\\\prepared_RW20.csv\", index_col = 0)\n",
    "print(\"Size of Dataframe: \",df.shape)"
   ]
  },
  {
   "cell_type": "markdown",
   "metadata": {},
   "source": [
    "# Defining of Functions"
   ]
  },
  {
   "cell_type": "markdown",
   "metadata": {},
   "source": [
    "# Applying and testing"
   ]
  },
  {
   "cell_type": "code",
   "execution_count": 3,
   "metadata": {},
   "outputs": [
    {
     "data": {
      "text/html": [
       "<div>\n",
       "<style scoped>\n",
       "    .dataframe tbody tr th:only-of-type {\n",
       "        vertical-align: middle;\n",
       "    }\n",
       "\n",
       "    .dataframe tbody tr th {\n",
       "        vertical-align: top;\n",
       "    }\n",
       "\n",
       "    .dataframe thead th {\n",
       "        text-align: right;\n",
       "    }\n",
       "</style>\n",
       "<table border=\"1\" class=\"dataframe\">\n",
       "  <thead>\n",
       "    <tr style=\"text-align: right;\">\n",
       "      <th></th>\n",
       "      <th>batteryname</th>\n",
       "      <th>zyklus</th>\n",
       "      <th>step</th>\n",
       "      <th>comment</th>\n",
       "      <th>type</th>\n",
       "      <th>time</th>\n",
       "      <th>relativeTime</th>\n",
       "      <th>voltage</th>\n",
       "      <th>current</th>\n",
       "      <th>temperature</th>\n",
       "      <th>date</th>\n",
       "      <th>mean_voltage_all</th>\n",
       "      <th>median_voltage_all</th>\n",
       "      <th>min_voltage_all</th>\n",
       "      <th>max_voltage_all</th>\n",
       "      <th>std_voltage_all</th>\n",
       "    </tr>\n",
       "  </thead>\n",
       "  <tbody>\n",
       "    <tr>\n",
       "      <th>0</th>\n",
       "      <td>RW20</td>\n",
       "      <td>0</td>\n",
       "      <td>0</td>\n",
       "      <td>charge (after random walk discharge)</td>\n",
       "      <td>C</td>\n",
       "      <td>60.04</td>\n",
       "      <td>0.04</td>\n",
       "      <td>3.957</td>\n",
       "      <td>-2.005</td>\n",
       "      <td>22.22000</td>\n",
       "      <td>04-Aug-2014 12:30:47</td>\n",
       "      <td>4.186659</td>\n",
       "      <td>4.2</td>\n",
       "      <td>3.957</td>\n",
       "      <td>4.2</td>\n",
       "      <td>0.038696</td>\n",
       "    </tr>\n",
       "    <tr>\n",
       "      <th>1</th>\n",
       "      <td>RW20</td>\n",
       "      <td>0</td>\n",
       "      <td>1</td>\n",
       "      <td>charge (after random walk discharge)</td>\n",
       "      <td>C</td>\n",
       "      <td>120.04</td>\n",
       "      <td>60.04</td>\n",
       "      <td>4.032</td>\n",
       "      <td>-2.000</td>\n",
       "      <td>22.26685</td>\n",
       "      <td>04-Aug-2014 12:30:47</td>\n",
       "      <td>4.186659</td>\n",
       "      <td>4.2</td>\n",
       "      <td>3.957</td>\n",
       "      <td>4.2</td>\n",
       "      <td>0.038696</td>\n",
       "    </tr>\n",
       "    <tr>\n",
       "      <th>2</th>\n",
       "      <td>RW20</td>\n",
       "      <td>0</td>\n",
       "      <td>2</td>\n",
       "      <td>charge (after random walk discharge)</td>\n",
       "      <td>C</td>\n",
       "      <td>180.04</td>\n",
       "      <td>120.04</td>\n",
       "      <td>4.051</td>\n",
       "      <td>-2.000</td>\n",
       "      <td>22.40741</td>\n",
       "      <td>04-Aug-2014 12:30:47</td>\n",
       "      <td>4.186659</td>\n",
       "      <td>4.2</td>\n",
       "      <td>3.957</td>\n",
       "      <td>4.2</td>\n",
       "      <td>0.038696</td>\n",
       "    </tr>\n",
       "    <tr>\n",
       "      <th>3</th>\n",
       "      <td>RW20</td>\n",
       "      <td>0</td>\n",
       "      <td>3</td>\n",
       "      <td>charge (after random walk discharge)</td>\n",
       "      <td>C</td>\n",
       "      <td>240.04</td>\n",
       "      <td>180.04</td>\n",
       "      <td>4.059</td>\n",
       "      <td>-2.000</td>\n",
       "      <td>22.61045</td>\n",
       "      <td>04-Aug-2014 12:30:47</td>\n",
       "      <td>4.186659</td>\n",
       "      <td>4.2</td>\n",
       "      <td>3.957</td>\n",
       "      <td>4.2</td>\n",
       "      <td>0.038696</td>\n",
       "    </tr>\n",
       "    <tr>\n",
       "      <th>4</th>\n",
       "      <td>RW20</td>\n",
       "      <td>0</td>\n",
       "      <td>4</td>\n",
       "      <td>charge (after random walk discharge)</td>\n",
       "      <td>C</td>\n",
       "      <td>300.04</td>\n",
       "      <td>240.04</td>\n",
       "      <td>4.064</td>\n",
       "      <td>-2.001</td>\n",
       "      <td>22.81348</td>\n",
       "      <td>04-Aug-2014 12:30:47</td>\n",
       "      <td>4.186659</td>\n",
       "      <td>4.2</td>\n",
       "      <td>3.957</td>\n",
       "      <td>4.2</td>\n",
       "      <td>0.038696</td>\n",
       "    </tr>\n",
       "  </tbody>\n",
       "</table>\n",
       "</div>"
      ],
      "text/plain": [
       "  batteryname  zyklus  step                               comment type  \\\n",
       "0        RW20       0     0  charge (after random walk discharge)    C   \n",
       "1        RW20       0     1  charge (after random walk discharge)    C   \n",
       "2        RW20       0     2  charge (after random walk discharge)    C   \n",
       "3        RW20       0     3  charge (after random walk discharge)    C   \n",
       "4        RW20       0     4  charge (after random walk discharge)    C   \n",
       "\n",
       "     time  relativeTime  voltage  current  temperature                  date  \\\n",
       "0   60.04          0.04    3.957   -2.005     22.22000  04-Aug-2014 12:30:47   \n",
       "1  120.04         60.04    4.032   -2.000     22.26685  04-Aug-2014 12:30:47   \n",
       "2  180.04        120.04    4.051   -2.000     22.40741  04-Aug-2014 12:30:47   \n",
       "3  240.04        180.04    4.059   -2.000     22.61045  04-Aug-2014 12:30:47   \n",
       "4  300.04        240.04    4.064   -2.001     22.81348  04-Aug-2014 12:30:47   \n",
       "\n",
       "   mean_voltage_all  median_voltage_all  min_voltage_all  max_voltage_all  \\\n",
       "0          4.186659                 4.2            3.957              4.2   \n",
       "1          4.186659                 4.2            3.957              4.2   \n",
       "2          4.186659                 4.2            3.957              4.2   \n",
       "3          4.186659                 4.2            3.957              4.2   \n",
       "4          4.186659                 4.2            3.957              4.2   \n",
       "\n",
       "   std_voltage_all  \n",
       "0         0.038696  \n",
       "1         0.038696  \n",
       "2         0.038696  \n",
       "3         0.038696  \n",
       "4         0.038696  "
      ]
     },
     "execution_count": 3,
     "metadata": {},
     "output_type": "execute_result"
    }
   ],
   "source": [
    "df = feature_creator(df,'voltage',['batteryname','zyklus'],\"mean\")\n",
    "df = feature_creator(df,'voltage',['batteryname','zyklus'],\"median\")\n",
    "df = feature_creator(df,'voltage',['batteryname','zyklus'],\"min\")\n",
    "df = feature_creator(df,'voltage',['batteryname','zyklus'],\"max\")\n",
    "df = feature_creator(df,'voltage',['batteryname','zyklus'],\"std\")\n",
    "df.head()"
   ]
  },
  {
   "cell_type": "code",
   "execution_count": 4,
   "metadata": {},
   "outputs": [
    {
     "name": "stdout",
     "output_type": "stream",
     "text": [
      "Das hier ist nur ein dummy - das Framing muss noch ergänzt werden\n"
     ]
    }
   ],
   "source": [
    "df = feature_creator(df,'voltage',['batteryname','zyklus'],\"std\",'10')"
   ]
  },
  {
   "cell_type": "code",
   "execution_count": null,
   "metadata": {},
   "outputs": [],
   "source": []
  }
 ],
 "metadata": {
  "kernelspec": {
   "display_name": "batfailpred",
   "language": "python",
   "name": "batfailpred"
  },
  "language_info": {
   "codemirror_mode": {
    "name": "ipython",
    "version": 3
   },
   "file_extension": ".py",
   "mimetype": "text/x-python",
   "name": "python",
   "nbconvert_exporter": "python",
   "pygments_lexer": "ipython3",
   "version": "3.8.3"
  }
 },
 "nbformat": 4,
 "nbformat_minor": 4
}
