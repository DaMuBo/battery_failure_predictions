{
 "cells": [
  {
   "cell_type": "markdown",
   "metadata": {},
   "source": [
    "# Importing Data and defining functions for feature engineering\n",
    "\n",
    "1. Import Modules\n",
    "2. Import data\n",
    "3. Defining of functions\n",
    "4. Applying and testing"
   ]
  },
  {
   "cell_type": "markdown",
   "metadata": {},
   "source": [
    "## Importing Modules"
   ]
  },
  {
   "cell_type": "code",
   "execution_count": 3,
   "metadata": {},
   "outputs": [],
   "source": [
    "import pandas as pd\n",
    "import numpy as np\n",
    "\n",
    "import os\n",
    "import sys\n",
    "import logging\n",
    "\n",
    "parentdir = os.path.dirname(os.path.abspath(''))\n",
    "sys.path.append(parentdir)\n",
    "\n",
    "import functions as fu\n",
    "from feature_engineering import *\n",
    "\n",
    "# Pfade setzen\n",
    "c_fold = fu.get_folder()\n",
    "p_fold = c_fold + '\\data\\Prepared'\n",
    "folder = c_fold + '\\data\\Processed'\n",
    "\n",
    "\n",
    "# Initialize Logging\n",
    "logging.basicConfig(format='[%(asctime)s] %(levelname)s: %(message)s',\n",
    "                    datefmt='%H:%M:%S',\n",
    "                    level=logging.INFO,\n",
    "                    handlers=[\n",
    "                        logging.FileHandler(\n",
    "                            filename='datalogger.log',\n",
    "                            mode='a',\n",
    "                            encoding='utf-8'),\n",
    "                        logging.StreamHandler(sys.stdout)])"
   ]
  },
  {
   "cell_type": "markdown",
   "metadata": {},
   "source": [
    "# Importing Data and calculating the features\n",
    "* für jeden zyklus die anzahl der vorherigen entlade und ladezyklen anzeigen\n",
    "* filtern auf die entladezyklen da dies das trainingmaterial ist."
   ]
  },
  {
   "cell_type": "code",
   "execution_count": 4,
   "metadata": {},
   "outputs": [],
   "source": [
    "# import Full Data\n",
    "#df = fu.csv_einlesen(p_fold)\n",
    "\n",
    "\n",
    "# import one dataset for developing\n",
    "for file in os.listdir(p_fold):\n",
    "    if \".csv\" in file:\n",
    "        logging.info(f\"<<< Started processing file: {file} >>>\")\n",
    "        df = pd.read_csv(f\"{p_fold}\\\\{file}\", index_col = 0,\n",
    "                         #nrows= 100000\n",
    "                        )\n",
    "        logging.info(f\"<<< Size of Dataframe: {df.shape} >>>\")\n",
    "        # create efficient  datetypes for more efficient memory usage\n",
    "        df[[\"batteryname\",'comment','type']] = df[[\"batteryname\",'comment','type']].astype(\"category\")\n",
    "        df[['time','relativeTime','voltage','current','temperature']] = df[['time','relativeTime','voltage','current','temperature']].apply(pd.to_numeric, downcast=\"float\")\n",
    "        df[['zyklus','step']] = df[['zyklus','step']].apply(pd.to_numeric, downcast=\"integer\")\n",
    "        \n",
    "        # applying new features\n",
    "        df = feature_creator(df,['voltage','current','temperature'],['batteryname','zyklus'],\"mean\")\n",
    "        df = feature_creator(df,['voltage','current','temperature'],['batteryname','zyklus'],\"median\")\n",
    "        df = feature_creator(df,['voltage','current','temperature'],['batteryname','zyklus'],\"min\")\n",
    "        df = feature_creator(df,['voltage','current','temperature'],['batteryname','zyklus'],\"max\")\n",
    "        df = feature_creator(df,['voltage','current','temperature'],['batteryname','zyklus'],\"std\")\n",
    "        \n",
    "        # calculate numbers of discharging and charging zycles\n",
    "        df['type_d'] = calc_previous_cycles(df,columns = ['batteryname','zyklus'], types = 'D')\n",
    "        df['type_c'] = calc_previous_cycles(df,columns = ['batteryname','zyklus'], types = 'C')\n",
    "        # applying calculated remaining time in zyklus\n",
    "        df['target'] = target_creator(df)\n",
    "        \n",
    "        df = df[df.type == 'D']\n",
    "        logging.info(f\"<<< Start saving dataframe with shape {df.shape} >>>\")\n",
    "        df.to_csv(f\"{folder}\\\\{file}\", sep=',')\n",
    "        logging.info(f\"<<< Saved processed file in directory {folder}\\\\{file} >>>\")"
   ]
  },
  {
   "cell_type": "code",
   "execution_count": 2,
   "metadata": {},
   "outputs": [
    {
     "ename": "NameError",
     "evalue": "name 'df' is not defined",
     "output_type": "error",
     "traceback": [
      "\u001b[1;31m---------------------------------------------------------------------------\u001b[0m",
      "\u001b[1;31mNameError\u001b[0m                                 Traceback (most recent call last)",
      "\u001b[1;32m~\\AppData\\Local\\Temp/ipykernel_68008/3624539810.py\u001b[0m in \u001b[0;36m<module>\u001b[1;34m\u001b[0m\n\u001b[0;32m      4\u001b[0m \u001b[0mget_ipython\u001b[0m\u001b[1;33m(\u001b[0m\u001b[1;33m)\u001b[0m\u001b[1;33m.\u001b[0m\u001b[0mrun_line_magic\u001b[0m\u001b[1;33m(\u001b[0m\u001b[1;34m'matplotlib'\u001b[0m\u001b[1;33m,\u001b[0m \u001b[1;34m'inline'\u001b[0m\u001b[1;33m)\u001b[0m\u001b[1;33m\u001b[0m\u001b[1;33m\u001b[0m\u001b[0m\n\u001b[0;32m      5\u001b[0m \u001b[1;33m\u001b[0m\u001b[0m\n\u001b[1;32m----> 6\u001b[1;33m \u001b[0mdata\u001b[0m \u001b[1;33m=\u001b[0m \u001b[0mdf\u001b[0m\u001b[1;33m\u001b[0m\u001b[1;33m\u001b[0m\u001b[0m\n\u001b[0m\u001b[0;32m      7\u001b[0m \u001b[1;33m\u001b[0m\u001b[0m\n\u001b[0;32m      8\u001b[0m \u001b[0mcorrMatrix\u001b[0m \u001b[1;33m=\u001b[0m \u001b[0mdata\u001b[0m\u001b[1;33m.\u001b[0m\u001b[0mcorr\u001b[0m\u001b[1;33m(\u001b[0m\u001b[1;33m)\u001b[0m\u001b[1;33m\u001b[0m\u001b[1;33m\u001b[0m\u001b[0m\n",
      "\u001b[1;31mNameError\u001b[0m: name 'df' is not defined"
     ]
    }
   ],
   "source": [
    "import matplotlib.pyplot as plt\n",
    "import seaborn as sns\n",
    "\n",
    "%matplotlib inline\n",
    "\n",
    "data = df\n",
    "\n",
    "corrMatrix = data.corr()\n",
    "mask = np.triu(np.ones_like(corrMatrix, dtype=bool))\n",
    "\n",
    "\n",
    "plt.figure(figsize=(15,10))\n",
    "sns.heatmap(corrMatrix, annot=True,mask=mask)\n",
    "plt.draw()"
   ]
  },
  {
   "cell_type": "code",
   "execution_count": null,
   "metadata": {},
   "outputs": [],
   "source": []
  }
 ],
 "metadata": {
  "kernelspec": {
   "display_name": "battery_failure",
   "language": "python",
   "name": "battery_failure"
  },
  "language_info": {
   "codemirror_mode": {
    "name": "ipython",
    "version": 3
   },
   "file_extension": ".py",
   "mimetype": "text/x-python",
   "name": "python",
   "nbconvert_exporter": "python",
   "pygments_lexer": "ipython3",
   "version": "3.8.12"
  }
 },
 "nbformat": 4,
 "nbformat_minor": 4
}
