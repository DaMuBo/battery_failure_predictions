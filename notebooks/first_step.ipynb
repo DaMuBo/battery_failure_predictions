{
 "cells": [
  {
   "cell_type": "markdown",
   "metadata": {},
   "source": [
    "# Aufgaben\n",
    "Das Notebook bereitet die Quelldaten auf um die in späteren Programmen weiter zu verarbeiten. \n",
    "Dazu werden die Daten eingelesen und die Untervektoren für jeden Zyklus aufbereitet.\n",
    "Diese Daten werden dann als neue CSV abgespeichert"
   ]
  },
  {
   "cell_type": "code",
   "execution_count": 4,
   "metadata": {},
   "outputs": [],
   "source": [
    "import os\n",
    "import sys\n",
    "\n",
    "import numpy as np\n",
    "import pandas as pd\n",
    "\n",
    "parentdir = os.path.dirname(os.path.abspath(''))\n",
    "sys.path.append(parentdir)\n",
    "\n",
    "\n",
    "from functions import get_folder\n",
    "\n",
    "c_fold = get_folder()\n",
    "d_fold = c_fold + '\\data\\CSV' \n",
    "p_fold = c_fold + '\\data\\Prepared'"
   ]
  },
  {
   "cell_type": "code",
   "execution_count": 6,
   "metadata": {},
   "outputs": [
    {
     "name": "stdout",
     "output_type": "stream",
     "text": [
      "RW1.csv\n",
      "Anzahl Einträge:  2958840\n",
      "RW10.csv\n",
      "Anzahl Einträge:  8596025\n",
      "RW11.csv\n",
      "Anzahl Einträge:  8664510\n",
      "RW12.csv\n",
      "Anzahl Einträge:  8638882\n",
      "RW13.csv\n",
      "Anzahl Einträge:  2058466\n",
      "RW14.csv\n",
      "Anzahl Einträge:  1731073\n",
      "RW15.csv\n",
      "Anzahl Einträge:  1790880\n",
      "RW16.csv\n",
      "Anzahl Einträge:  1563555\n",
      "RW17.csv\n",
      "Anzahl Einträge:  1276444\n",
      "RW18.csv\n",
      "Anzahl Einträge:  1298508\n",
      "RW19.csv\n",
      "Anzahl Einträge:  1350773\n",
      "RW2.csv\n",
      "Anzahl Einträge:  2895644\n",
      "RW20.csv\n",
      "Anzahl Einträge:  1222375\n",
      "RW21.csv\n",
      "Anzahl Einträge:  1494692\n",
      "RW22.csv\n",
      "Anzahl Einträge:  1389063\n",
      "RW23.csv\n",
      "Anzahl Einträge:  1463058\n",
      "RW24.csv\n",
      "Anzahl Einträge:  1421691\n",
      "RW25.csv\n",
      "Anzahl Einträge:  806283\n",
      "RW26.csv\n",
      "Anzahl Einträge:  697936\n",
      "RW27.csv\n",
      "Anzahl Einträge:  905559\n",
      "RW28.csv\n",
      "Anzahl Einträge:  826968\n",
      "RW3.csv\n",
      "Anzahl Einträge:  3005994\n",
      "RW4.csv\n",
      "Anzahl Einträge:  2752836\n",
      "RW5.csv\n",
      "Anzahl Einträge:  2857789\n",
      "RW6.csv\n",
      "Anzahl Einträge:  1755264\n",
      "RW7.csv\n",
      "Anzahl Einträge:  2944002\n",
      "RW8.csv\n",
      "Anzahl Einträge:  2801637\n",
      "RW9.csv\n",
      "Anzahl Einträge:  8532073\n"
     ]
    }
   ],
   "source": [
    "for file in os.listdir(d_fold):\n",
    "    if '.csv' in file:\n",
    "        print(file)\n",
    "        batname = file.replace('.csv','')\n",
    "        tempdf = pd.read_csv(f\"{d_fold}\\\\{file}\")\n",
    "        \n",
    "        zyklus = 0\n",
    "        liste = []\n",
    "        for dfindex, dfrow in tempdf.iterrows():\n",
    "            timelist = list(map(float,dfrow['time'].replace('c(','').replace(')','').split(',')))\n",
    "            reltimelist = list(map(float,dfrow['relativeTime'].replace('c(','').replace(')','').split(',')))\n",
    "            voltlist = list(map(float,dfrow['voltage'].replace('c(','').replace(')','').split(',')))\n",
    "            currentlist = list(map(float,dfrow['current'].replace('c(','').replace(')','').split(',')))\n",
    "            temperlist = list(map(float,dfrow['temperature'].replace('c(','').replace(')','').split(',')))\n",
    "            for n in range(len(timelist)):\n",
    "                rows = [batname,dfindex,n,dfrow['comment'],dfrow['type'],timelist[n],reltimelist[n],voltlist[n],currentlist[n],temperlist[n],dfrow['date']]\n",
    "                liste.append(rows)    \n",
    "        newdf = pd.DataFrame(liste, columns = ['batteryname','zyklus','step','comment','type','time','relativeTime','voltage','current','temperature','date'])\n",
    "        print('Anzahl Einträge: ', len(liste))\n",
    "        newdf.to_csv(f\"{p_fold}\\\\prepared_{file}\", sep=',' )\n",
    "    #break\n"
   ]
  },
  {
   "cell_type": "code",
   "execution_count": null,
   "metadata": {},
   "outputs": [],
   "source": []
  }
 ],
 "metadata": {
  "kernelspec": {
   "display_name": "battery_failure",
   "language": "python",
   "name": "battery_failure"
  },
  "language_info": {
   "codemirror_mode": {
    "name": "ipython",
    "version": 3
   },
   "file_extension": ".py",
   "mimetype": "text/x-python",
   "name": "python",
   "nbconvert_exporter": "python",
   "pygments_lexer": "ipython3",
   "version": "3.8.12"
  }
 },
 "nbformat": 4,
 "nbformat_minor": 4
}
