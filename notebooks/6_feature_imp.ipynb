{
 "cells": [
  {
   "cell_type": "markdown",
   "id": "9616d0f9-4730-4a33-a770-d26df493aaed",
   "metadata": {},
   "source": [
    "# Feature Importance\n"
   ]
  },
  {
   "cell_type": "markdown",
   "id": "e49115eb-3588-4d54-877f-115163d82dc7",
   "metadata": {},
   "source": [
    "## Einlesen von Packages und setzen von Variablen / Funktionen"
   ]
  },
  {
   "cell_type": "code",
   "execution_count": 1,
   "id": "c216c8f2-f008-456b-822c-9f2f15176249",
   "metadata": {},
   "outputs": [],
   "source": [
    "import sys\n",
    "import os\n",
    "\n",
    "parentdir = os.path.dirname(os.path.abspath(''))\n",
    "sys.path.append(parentdir)\n",
    "\n",
    "from datetime import date\n",
    "\n",
    "import pandas as pd\n",
    "import numpy as np\n",
    "\n",
    "import pandas_profiling as pd_profil\n",
    "\n",
    "import functions as fu\n",
    "import matplotlib as mpl\n",
    "import matplotlib.pyplot as plt\n",
    "import seaborn as sns\n",
    "\n",
    "\n",
    "mpl.rc('axes', labelsize=14)\n",
    "mpl.rc('xtick', labelsize=12)\n",
    "mpl.rc('ytick', labelsize=12)\n",
    "\n",
    "\n",
    "import sklearn\n",
    "from sklearn.model_selection import train_test_split\n",
    "from sklearn.pipeline import Pipeline\n",
    "from sklearn.preprocessing import StandardScaler\n",
    "from sklearn.impute import SimpleImputer\n",
    "from sklearn.compose import ColumnTransformer\n",
    "\n",
    "\n",
    "%matplotlib inline\n",
    "\n",
    "# Pfade setzen\n",
    "c_fold = fu.get_folder()\n",
    "p_fold = c_fold + '\\data\\Prepared'\n",
    "folder = c_fold + '\\data\\Processed\\Zyklus'\n",
    "folder_final = c_fold + '\\data\\Processed\\\\final'\n",
    "\n",
    "# y = df.loc[:, df.columns.isin(['amperestunden'])]\n",
    "# X = df.loc[:, ~df.columns.isin(['amperestunden'])]"
   ]
  },
  {
   "cell_type": "markdown",
   "id": "097208a5-f5cc-4f01-8f76-7a2bf90d2aa1",
   "metadata": {},
   "source": [
    "## Daten einlesen und erste Übersicht erzeugen"
   ]
  },
  {
   "cell_type": "code",
   "execution_count": 2,
   "id": "a6a801a5-38d2-4e25-981a-c157d5fef87d",
   "metadata": {},
   "outputs": [],
   "source": [
    "daten = pd.read_csv(f\"{folder_final}\\\\df_fertige_features_ref_discharge.csv\", sep=',')\n",
    "daten.drop([\"batteryname_\",\"comment_\",\"type_\"], axis=1, inplace=True) #brauch ich hier nicht\n",
    "daten.drop([\"time_amin\"], axis=1, inplace=True) #zu viel überschneidung mit *_leicht_vorher\n",
    "daten = daten[daten[\"amperestunden\"] != 0] #nicht logisch"
   ]
  },
  {
   "cell_type": "code",
   "execution_count": 3,
   "id": "77f97a01-13e6-45b3-bceb-439c5f0f7379",
   "metadata": {},
   "outputs": [
    {
     "data": {
      "text/html": [
       "<div>\n",
       "<style scoped>\n",
       "    .dataframe tbody tr th:only-of-type {\n",
       "        vertical-align: middle;\n",
       "    }\n",
       "\n",
       "    .dataframe tbody tr th {\n",
       "        vertical-align: top;\n",
       "    }\n",
       "\n",
       "    .dataframe thead th {\n",
       "        text-align: right;\n",
       "    }\n",
       "</style>\n",
       "<table border=\"1\" class=\"dataframe\">\n",
       "  <thead>\n",
       "    <tr style=\"text-align: right;\">\n",
       "      <th></th>\n",
       "      <th>amperestunden</th>\n",
       "      <th>zyklus_</th>\n",
       "      <th>temperature_amax</th>\n",
       "      <th>temperature_amin</th>\n",
       "      <th>temperature_mean</th>\n",
       "      <th>time_entladen_stark_vorher</th>\n",
       "      <th>time_entladen_leicht_vorher</th>\n",
       "      <th>time_laden_stark_vorher</th>\n",
       "      <th>time_laden_leicht_vorher</th>\n",
       "      <th>time_pause_vorher</th>\n",
       "      <th>time_temp_hoch_vorher</th>\n",
       "    </tr>\n",
       "  </thead>\n",
       "  <tbody>\n",
       "    <tr>\n",
       "      <th>0</th>\n",
       "      <td>2.000364</td>\n",
       "      <td>3</td>\n",
       "      <td>23.56742</td>\n",
       "      <td>18.39025</td>\n",
       "      <td>21.798768</td>\n",
       "      <td>0.0</td>\n",
       "      <td>196178.5</td>\n",
       "      <td>0.0</td>\n",
       "      <td>194718.28</td>\n",
       "      <td>0.0</td>\n",
       "      <td>0.0</td>\n",
       "    </tr>\n",
       "  </tbody>\n",
       "</table>\n",
       "</div>"
      ],
      "text/plain": [
       "   amperestunden  zyklus_  temperature_amax  temperature_amin  \\\n",
       "0       2.000364        3          23.56742          18.39025   \n",
       "\n",
       "   temperature_mean  time_entladen_stark_vorher  time_entladen_leicht_vorher  \\\n",
       "0         21.798768                         0.0                     196178.5   \n",
       "\n",
       "   time_laden_stark_vorher  time_laden_leicht_vorher  time_pause_vorher  \\\n",
       "0                      0.0                 194718.28                0.0   \n",
       "\n",
       "   time_temp_hoch_vorher  \n",
       "0                    0.0  "
      ]
     },
     "execution_count": 3,
     "metadata": {},
     "output_type": "execute_result"
    }
   ],
   "source": [
    "daten.head(1)"
   ]
  },
  {
   "cell_type": "code",
   "execution_count": 4,
   "id": "c10e9f44-06fe-4939-8187-6482a9334948",
   "metadata": {},
   "outputs": [
    {
     "data": {
      "text/html": [
       "<div>\n",
       "<style scoped>\n",
       "    .dataframe tbody tr th:only-of-type {\n",
       "        vertical-align: middle;\n",
       "    }\n",
       "\n",
       "    .dataframe tbody tr th {\n",
       "        vertical-align: top;\n",
       "    }\n",
       "\n",
       "    .dataframe thead th {\n",
       "        text-align: right;\n",
       "    }\n",
       "</style>\n",
       "<table border=\"1\" class=\"dataframe\">\n",
       "  <thead>\n",
       "    <tr style=\"text-align: right;\">\n",
       "      <th></th>\n",
       "      <th>count</th>\n",
       "      <th>mean</th>\n",
       "      <th>std</th>\n",
       "      <th>min</th>\n",
       "      <th>25%</th>\n",
       "      <th>50%</th>\n",
       "      <th>75%</th>\n",
       "      <th>max</th>\n",
       "    </tr>\n",
       "  </thead>\n",
       "  <tbody>\n",
       "    <tr>\n",
       "      <th>amperestunden</th>\n",
       "      <td>947.0</td>\n",
       "      <td>1.506245e+00</td>\n",
       "      <td>3.221559e-01</td>\n",
       "      <td>0.692978</td>\n",
       "      <td>1.255331e+00</td>\n",
       "      <td>1.493948e+00</td>\n",
       "      <td>1.755298e+00</td>\n",
       "      <td>2.147193e+00</td>\n",
       "    </tr>\n",
       "    <tr>\n",
       "      <th>zyklus_</th>\n",
       "      <td>947.0</td>\n",
       "      <td>2.829791e+04</td>\n",
       "      <td>2.833194e+04</td>\n",
       "      <td>1.000000</td>\n",
       "      <td>8.086000e+03</td>\n",
       "      <td>1.607700e+04</td>\n",
       "      <td>3.956050e+04</td>\n",
       "      <td>1.135760e+05</td>\n",
       "    </tr>\n",
       "    <tr>\n",
       "      <th>temperature_amax</th>\n",
       "      <td>947.0</td>\n",
       "      <td>-3.399548e+02</td>\n",
       "      <td>1.179261e+03</td>\n",
       "      <td>-4099.447750</td>\n",
       "      <td>2.464716e+01</td>\n",
       "      <td>2.705890e+01</td>\n",
       "      <td>3.433525e+01</td>\n",
       "      <td>4.493351e+01</td>\n",
       "    </tr>\n",
       "    <tr>\n",
       "      <th>temperature_amin</th>\n",
       "      <td>947.0</td>\n",
       "      <td>-3.661795e+02</td>\n",
       "      <td>1.208497e+03</td>\n",
       "      <td>-4099.447750</td>\n",
       "      <td>1.948165e+01</td>\n",
       "      <td>2.180372e+01</td>\n",
       "      <td>2.856643e+01</td>\n",
       "      <td>4.065417e+01</td>\n",
       "    </tr>\n",
       "    <tr>\n",
       "      <th>temperature_mean</th>\n",
       "      <td>947.0</td>\n",
       "      <td>-3.596099e+02</td>\n",
       "      <td>1.202247e+03</td>\n",
       "      <td>-4099.447750</td>\n",
       "      <td>2.231664e+01</td>\n",
       "      <td>2.449171e+01</td>\n",
       "      <td>3.169589e+01</td>\n",
       "      <td>4.214114e+01</td>\n",
       "    </tr>\n",
       "    <tr>\n",
       "      <th>time_entladen_stark_vorher</th>\n",
       "      <td>947.0</td>\n",
       "      <td>2.054629e+05</td>\n",
       "      <td>1.234425e+05</td>\n",
       "      <td>0.000000</td>\n",
       "      <td>1.242027e+05</td>\n",
       "      <td>2.035827e+05</td>\n",
       "      <td>2.643333e+05</td>\n",
       "      <td>5.931812e+05</td>\n",
       "    </tr>\n",
       "    <tr>\n",
       "      <th>time_entladen_leicht_vorher</th>\n",
       "      <td>947.0</td>\n",
       "      <td>1.362207e+06</td>\n",
       "      <td>1.093917e+06</td>\n",
       "      <td>7538.120000</td>\n",
       "      <td>4.738886e+05</td>\n",
       "      <td>1.107009e+06</td>\n",
       "      <td>1.898047e+06</td>\n",
       "      <td>4.347433e+06</td>\n",
       "    </tr>\n",
       "    <tr>\n",
       "      <th>time_laden_stark_vorher</th>\n",
       "      <td>947.0</td>\n",
       "      <td>4.768020e+04</td>\n",
       "      <td>7.710116e+04</td>\n",
       "      <td>0.000000</td>\n",
       "      <td>0.000000e+00</td>\n",
       "      <td>0.000000e+00</td>\n",
       "      <td>9.855867e+04</td>\n",
       "      <td>2.416744e+05</td>\n",
       "    </tr>\n",
       "    <tr>\n",
       "      <th>time_laden_leicht_vorher</th>\n",
       "      <td>947.0</td>\n",
       "      <td>3.660426e+06</td>\n",
       "      <td>2.466431e+06</td>\n",
       "      <td>1627.080000</td>\n",
       "      <td>1.689898e+06</td>\n",
       "      <td>3.402548e+06</td>\n",
       "      <td>5.029218e+06</td>\n",
       "      <td>1.085041e+07</td>\n",
       "    </tr>\n",
       "    <tr>\n",
       "      <th>time_pause_vorher</th>\n",
       "      <td>947.0</td>\n",
       "      <td>1.052630e+06</td>\n",
       "      <td>1.184730e+06</td>\n",
       "      <td>0.000000</td>\n",
       "      <td>1.285892e+05</td>\n",
       "      <td>6.499665e+05</td>\n",
       "      <td>1.505293e+06</td>\n",
       "      <td>5.585429e+06</td>\n",
       "    </tr>\n",
       "    <tr>\n",
       "      <th>time_temp_hoch_vorher</th>\n",
       "      <td>947.0</td>\n",
       "      <td>2.687850e+06</td>\n",
       "      <td>2.439376e+06</td>\n",
       "      <td>0.000000</td>\n",
       "      <td>7.956873e+05</td>\n",
       "      <td>1.782628e+06</td>\n",
       "      <td>3.739007e+06</td>\n",
       "      <td>1.140975e+07</td>\n",
       "    </tr>\n",
       "  </tbody>\n",
       "</table>\n",
       "</div>"
      ],
      "text/plain": [
       "                             count          mean           std          min  \\\n",
       "amperestunden                947.0  1.506245e+00  3.221559e-01     0.692978   \n",
       "zyklus_                      947.0  2.829791e+04  2.833194e+04     1.000000   \n",
       "temperature_amax             947.0 -3.399548e+02  1.179261e+03 -4099.447750   \n",
       "temperature_amin             947.0 -3.661795e+02  1.208497e+03 -4099.447750   \n",
       "temperature_mean             947.0 -3.596099e+02  1.202247e+03 -4099.447750   \n",
       "time_entladen_stark_vorher   947.0  2.054629e+05  1.234425e+05     0.000000   \n",
       "time_entladen_leicht_vorher  947.0  1.362207e+06  1.093917e+06  7538.120000   \n",
       "time_laden_stark_vorher      947.0  4.768020e+04  7.710116e+04     0.000000   \n",
       "time_laden_leicht_vorher     947.0  3.660426e+06  2.466431e+06  1627.080000   \n",
       "time_pause_vorher            947.0  1.052630e+06  1.184730e+06     0.000000   \n",
       "time_temp_hoch_vorher        947.0  2.687850e+06  2.439376e+06     0.000000   \n",
       "\n",
       "                                      25%           50%           75%  \\\n",
       "amperestunden                1.255331e+00  1.493948e+00  1.755298e+00   \n",
       "zyklus_                      8.086000e+03  1.607700e+04  3.956050e+04   \n",
       "temperature_amax             2.464716e+01  2.705890e+01  3.433525e+01   \n",
       "temperature_amin             1.948165e+01  2.180372e+01  2.856643e+01   \n",
       "temperature_mean             2.231664e+01  2.449171e+01  3.169589e+01   \n",
       "time_entladen_stark_vorher   1.242027e+05  2.035827e+05  2.643333e+05   \n",
       "time_entladen_leicht_vorher  4.738886e+05  1.107009e+06  1.898047e+06   \n",
       "time_laden_stark_vorher      0.000000e+00  0.000000e+00  9.855867e+04   \n",
       "time_laden_leicht_vorher     1.689898e+06  3.402548e+06  5.029218e+06   \n",
       "time_pause_vorher            1.285892e+05  6.499665e+05  1.505293e+06   \n",
       "time_temp_hoch_vorher        7.956873e+05  1.782628e+06  3.739007e+06   \n",
       "\n",
       "                                      max  \n",
       "amperestunden                2.147193e+00  \n",
       "zyklus_                      1.135760e+05  \n",
       "temperature_amax             4.493351e+01  \n",
       "temperature_amin             4.065417e+01  \n",
       "temperature_mean             4.214114e+01  \n",
       "time_entladen_stark_vorher   5.931812e+05  \n",
       "time_entladen_leicht_vorher  4.347433e+06  \n",
       "time_laden_stark_vorher      2.416744e+05  \n",
       "time_laden_leicht_vorher     1.085041e+07  \n",
       "time_pause_vorher            5.585429e+06  \n",
       "time_temp_hoch_vorher        1.140975e+07  "
      ]
     },
     "execution_count": 4,
     "metadata": {},
     "output_type": "execute_result"
    }
   ],
   "source": [
    "daten.describe().T"
   ]
  },
  {
   "cell_type": "code",
   "execution_count": 5,
   "id": "ad292722-6c75-40d8-b251-01124a371e91",
   "metadata": {},
   "outputs": [
    {
     "name": "stdout",
     "output_type": "stream",
     "text": [
      "Saving figure features_histogram_plots\n"
     ]
    },
    {
     "data": {
      "image/png": "[encoded data removed]",
      "text/plain": [
       "<Figure size 1440x1080 with 12 Axes>"
      ]
     },
     "metadata": {
      "needs_background": "light"
     },
     "output_type": "display_data"
    }
   ],
   "source": [
    "daten.hist(bins=50, figsize=(20,15))\n",
    "fu.save_fig(\"features_histogram_plots\")\n",
    "plt.show()"
   ]
  },
  {
   "cell_type": "markdown",
   "id": "547179b6-d3b1-4ba1-a6e8-05fcea964ecf",
   "metadata": {},
   "source": [
    "# Ausreißer\n",
    "\n",
    "* Temperatur hat Ausreißer in die -4000° Region. Die Werte sollten ersetzt werden durch den Median des Rests\n",
    "* Es scheint die Werte unterhalb des 10% Percentils zu betreffen"
   ]
  },
  {
   "cell_type": "code",
   "execution_count": 6,
   "id": "bd0c74e2-adef-4573-bf9c-47c3f5b78b97",
   "metadata": {},
   "outputs": [
    {
     "data": {
      "text/html": [
       "<div>\n",
       "<style scoped>\n",
       "    .dataframe tbody tr th:only-of-type {\n",
       "        vertical-align: middle;\n",
       "    }\n",
       "\n",
       "    .dataframe tbody tr th {\n",
       "        vertical-align: top;\n",
       "    }\n",
       "\n",
       "    .dataframe thead th {\n",
       "        text-align: right;\n",
       "    }\n",
       "</style>\n",
       "<table border=\"1\" class=\"dataframe\">\n",
       "  <thead>\n",
       "    <tr style=\"text-align: right;\">\n",
       "      <th></th>\n",
       "      <th>count</th>\n",
       "      <th>mean</th>\n",
       "      <th>std</th>\n",
       "      <th>min</th>\n",
       "      <th>1%</th>\n",
       "      <th>5%</th>\n",
       "      <th>6%</th>\n",
       "      <th>7%</th>\n",
       "      <th>8%</th>\n",
       "      <th>9%</th>\n",
       "      <th>10%</th>\n",
       "      <th>25%</th>\n",
       "      <th>50%</th>\n",
       "      <th>max</th>\n",
       "    </tr>\n",
       "  </thead>\n",
       "  <tbody>\n",
       "    <tr>\n",
       "      <th>temperature_amax</th>\n",
       "      <td>947.0</td>\n",
       "      <td>-339.954836</td>\n",
       "      <td>1179.260792</td>\n",
       "      <td>-4099.44775</td>\n",
       "      <td>-4094.09814</td>\n",
       "      <td>-4093.927</td>\n",
       "      <td>-4093.927</td>\n",
       "      <td>-4093.927</td>\n",
       "      <td>-4093.927</td>\n",
       "      <td>-69.120329</td>\n",
       "      <td>23.066152</td>\n",
       "      <td>24.647160</td>\n",
       "      <td>27.058900</td>\n",
       "      <td>44.933510</td>\n",
       "    </tr>\n",
       "    <tr>\n",
       "      <th>temperature_amin</th>\n",
       "      <td>947.0</td>\n",
       "      <td>-366.179536</td>\n",
       "      <td>1208.497383</td>\n",
       "      <td>-4099.44775</td>\n",
       "      <td>-4094.09814</td>\n",
       "      <td>-4093.927</td>\n",
       "      <td>-4093.927</td>\n",
       "      <td>-4093.927</td>\n",
       "      <td>-4093.927</td>\n",
       "      <td>-4093.927000</td>\n",
       "      <td>17.546158</td>\n",
       "      <td>19.481645</td>\n",
       "      <td>21.803720</td>\n",
       "      <td>40.654170</td>\n",
       "    </tr>\n",
       "    <tr>\n",
       "      <th>temperature_mean</th>\n",
       "      <td>947.0</td>\n",
       "      <td>-359.609921</td>\n",
       "      <td>1202.246988</td>\n",
       "      <td>-4099.44775</td>\n",
       "      <td>-4094.09814</td>\n",
       "      <td>-4093.927</td>\n",
       "      <td>-4093.927</td>\n",
       "      <td>-4093.927</td>\n",
       "      <td>-4093.927</td>\n",
       "      <td>-4056.380986</td>\n",
       "      <td>20.811553</td>\n",
       "      <td>22.316639</td>\n",
       "      <td>24.491707</td>\n",
       "      <td>42.141144</td>\n",
       "    </tr>\n",
       "  </tbody>\n",
       "</table>\n",
       "</div>"
      ],
      "text/plain": [
       "                  count        mean          std         min          1%  \\\n",
       "temperature_amax  947.0 -339.954836  1179.260792 -4099.44775 -4094.09814   \n",
       "temperature_amin  947.0 -366.179536  1208.497383 -4099.44775 -4094.09814   \n",
       "temperature_mean  947.0 -359.609921  1202.246988 -4099.44775 -4094.09814   \n",
       "\n",
       "                        5%        6%        7%        8%           9%  \\\n",
       "temperature_amax -4093.927 -4093.927 -4093.927 -4093.927   -69.120329   \n",
       "temperature_amin -4093.927 -4093.927 -4093.927 -4093.927 -4093.927000   \n",
       "temperature_mean -4093.927 -4093.927 -4093.927 -4093.927 -4056.380986   \n",
       "\n",
       "                        10%        25%        50%        max  \n",
       "temperature_amax  23.066152  24.647160  27.058900  44.933510  \n",
       "temperature_amin  17.546158  19.481645  21.803720  40.654170  \n",
       "temperature_mean  20.811553  22.316639  24.491707  42.141144  "
      ]
     },
     "execution_count": 6,
     "metadata": {},
     "output_type": "execute_result"
    }
   ],
   "source": [
    "daten[[\"temperature_amax\",\"temperature_amin\",'temperature_mean']].describe(percentiles=[.01, .05, .06, .07, .08, .09, .10, .25]).T"
   ]
  },
  {
   "cell_type": "code",
   "execution_count": 7,
   "id": "a848a5bf-1f5d-4c94-8903-0464338c766d",
   "metadata": {},
   "outputs": [],
   "source": [
    "daten_ohne_aus = daten.copy()\n",
    "spalten_mit_ausreißern = [\"temperature_amax\",\"temperature_amin\",'temperature_mean']\n",
    "for spalte in spalten_mit_ausreißern:\n",
    "    neuer_wert = daten_ohne_aus[daten_ohne_aus[spalte] > np.percentile(daten_ohne_aus[spalte],10)][spalte].median() #ersetzen durch den Median der Restwerte\n",
    "    daten_ohne_aus.loc[daten_ohne_aus[spalte] < np.percentile(daten_ohne_aus[spalte],10),spalte] = neuer_wert #neuen Wert setzen\n"
   ]
  },
  {
   "cell_type": "code",
   "execution_count": 8,
   "id": "2fe7ef3f-c933-46fa-8b9c-c5987d657a65",
   "metadata": {},
   "outputs": [
    {
     "data": {
      "text/html": [
       "<div>\n",
       "<style scoped>\n",
       "    .dataframe tbody tr th:only-of-type {\n",
       "        vertical-align: middle;\n",
       "    }\n",
       "\n",
       "    .dataframe tbody tr th {\n",
       "        vertical-align: top;\n",
       "    }\n",
       "\n",
       "    .dataframe thead th {\n",
       "        text-align: right;\n",
       "    }\n",
       "</style>\n",
       "<table border=\"1\" class=\"dataframe\">\n",
       "  <thead>\n",
       "    <tr style=\"text-align: right;\">\n",
       "      <th></th>\n",
       "      <th>count</th>\n",
       "      <th>mean</th>\n",
       "      <th>std</th>\n",
       "      <th>min</th>\n",
       "      <th>1%</th>\n",
       "      <th>5%</th>\n",
       "      <th>6%</th>\n",
       "      <th>7%</th>\n",
       "      <th>8%</th>\n",
       "      <th>9%</th>\n",
       "      <th>10%</th>\n",
       "      <th>25%</th>\n",
       "      <th>50%</th>\n",
       "      <th>max</th>\n",
       "    </tr>\n",
       "  </thead>\n",
       "  <tbody>\n",
       "    <tr>\n",
       "      <th>temperature_amax</th>\n",
       "      <td>947.0</td>\n",
       "      <td>30.352861</td>\n",
       "      <td>6.099227</td>\n",
       "      <td>23.159540</td>\n",
       "      <td>23.392825</td>\n",
       "      <td>23.915035</td>\n",
       "      <td>24.041195</td>\n",
       "      <td>24.112383</td>\n",
       "      <td>24.205488</td>\n",
       "      <td>24.264600</td>\n",
       "      <td>24.314476</td>\n",
       "      <td>25.619230</td>\n",
       "      <td>27.842150</td>\n",
       "      <td>44.933510</td>\n",
       "    </tr>\n",
       "    <tr>\n",
       "      <th>temperature_amin</th>\n",
       "      <td>947.0</td>\n",
       "      <td>25.004356</td>\n",
       "      <td>6.276055</td>\n",
       "      <td>17.555590</td>\n",
       "      <td>17.854556</td>\n",
       "      <td>18.535666</td>\n",
       "      <td>18.694734</td>\n",
       "      <td>18.822713</td>\n",
       "      <td>18.870574</td>\n",
       "      <td>19.009958</td>\n",
       "      <td>19.068174</td>\n",
       "      <td>20.202750</td>\n",
       "      <td>22.481255</td>\n",
       "      <td>40.654170</td>\n",
       "    </tr>\n",
       "    <tr>\n",
       "      <th>temperature_mean</th>\n",
       "      <td>947.0</td>\n",
       "      <td>27.929223</td>\n",
       "      <td>6.125406</td>\n",
       "      <td>20.839432</td>\n",
       "      <td>21.031769</td>\n",
       "      <td>21.695376</td>\n",
       "      <td>21.768601</td>\n",
       "      <td>21.819724</td>\n",
       "      <td>21.865467</td>\n",
       "      <td>21.930856</td>\n",
       "      <td>22.010801</td>\n",
       "      <td>23.161608</td>\n",
       "      <td>25.427230</td>\n",
       "      <td>42.141144</td>\n",
       "    </tr>\n",
       "  </tbody>\n",
       "</table>\n",
       "</div>"
      ],
      "text/plain": [
       "                  count       mean       std        min         1%         5%  \\\n",
       "temperature_amax  947.0  30.352861  6.099227  23.159540  23.392825  23.915035   \n",
       "temperature_amin  947.0  25.004356  6.276055  17.555590  17.854556  18.535666   \n",
       "temperature_mean  947.0  27.929223  6.125406  20.839432  21.031769  21.695376   \n",
       "\n",
       "                         6%         7%         8%         9%        10%  \\\n",
       "temperature_amax  24.041195  24.112383  24.205488  24.264600  24.314476   \n",
       "temperature_amin  18.694734  18.822713  18.870574  19.009958  19.068174   \n",
       "temperature_mean  21.768601  21.819724  21.865467  21.930856  22.010801   \n",
       "\n",
       "                        25%        50%        max  \n",
       "temperature_amax  25.619230  27.842150  44.933510  \n",
       "temperature_amin  20.202750  22.481255  40.654170  \n",
       "temperature_mean  23.161608  25.427230  42.141144  "
      ]
     },
     "execution_count": 8,
     "metadata": {},
     "output_type": "execute_result"
    }
   ],
   "source": [
    "daten_ohne_aus[[\"temperature_amax\",\"temperature_amin\",'temperature_mean']].describe(percentiles=[.01, .05, .06, .07, .08, .09, .10, .25]).T"
   ]
  },
  {
   "cell_type": "code",
   "execution_count": 9,
   "id": "6281d304-994d-4bbe-8734-320e31b00d7e",
   "metadata": {},
   "outputs": [
    {
     "name": "stdout",
     "output_type": "stream",
     "text": [
      "Saving figure features_histogram_plots_ohne_ausreißer\n"
     ]
    },
    {
     "data": {
      "image/png": "[encoded data removed]",
      "text/plain": [
       "<Figure size 1440x1080 with 12 Axes>"
      ]
     },
     "metadata": {
      "needs_background": "light"
     },
     "output_type": "display_data"
    }
   ],
   "source": [
    "daten_ohne_aus.hist(bins=50, figsize=(20,15))\n",
    "fu.save_fig(\"features_histogram_plots_ohne_ausreißer\")\n",
    "plt.show()"
   ]
  },
  {
   "cell_type": "markdown",
   "id": "f17dd773-f3da-469b-9b7e-e4f317062ed1",
   "metadata": {},
   "source": [
    "# Modellierung des Machine Learnings\n",
    "\n",
    "## Korrelationen mit \"amperestunden\"\n",
    "Welche der Features korrellieren am meisten mit der Zielvariablen? Wie schneiden die neu generierten Features ab? "
   ]
  },
  {
   "cell_type": "code",
   "execution_count": 10,
   "id": "28e0e2bd-5a30-497a-b690-11371ba279a8",
   "metadata": {},
   "outputs": [
    {
     "name": "stdout",
     "output_type": "stream",
     "text": [
      "Saving figure features_korrelationen_mit_amperestunden\n"
     ]
    },
    {
     "data": {
      "image/png": "[encoded data removed]",
      "text/plain": [
       "<Figure size 576x576 with 2 Axes>"
      ]
     },
     "metadata": {
      "needs_background": "light"
     },
     "output_type": "display_data"
    }
   ],
   "source": [
    "correlation = daten_ohne_aus.corr()\n",
    "plt.figure(figsize=(8,8))\n",
    "sns.heatmap(correlation[[\"amperestunden\"]].sort_values(by=['amperestunden'], ascending=False), vmin=-1, cmap='coolwarm', annot=True)\n",
    "fu.save_fig(\"features_korrelationen_mit_amperestunden\")"
   ]
  },
  {
   "cell_type": "markdown",
   "id": "66246c11-598d-4d4e-bf26-58beae1cec76",
   "metadata": {},
   "source": [
    "# Train Test Split"
   ]
  },
  {
   "cell_type": "code",
   "execution_count": 11,
   "id": "f09d50cb-cf05-4063-b2cd-dfcf2ad7b9dd",
   "metadata": {},
   "outputs": [],
   "source": [
    "train_set, test_set = train_test_split(daten_ohne_aus, test_size=0.2, random_state=42)\n",
    "\n",
    "daten = train_set.drop(\"amperestunden\", axis=1)\n",
    "daten_labels = train_set[\"amperestunden\"].copy()\n",
    "\n",
    "\n",
    "test_daten = train_set.drop(\"amperestunden\", axis=1)\n",
    "test_daten_labels = train_set[\"amperestunden\"].copy()"
   ]
  },
  {
   "cell_type": "markdown",
   "id": "c757a459-5441-4583-a8d8-ca58330243e8",
   "metadata": {},
   "source": [
    "# Null Werte -> Keine"
   ]
  },
  {
   "cell_type": "code",
   "execution_count": 12,
   "id": "bdcabab4-92f3-433e-ba55-8435999ecf4b",
   "metadata": {},
   "outputs": [
    {
     "name": "stdout",
     "output_type": "stream",
     "text": [
      "Saving figure null_werte_in_daten\n"
     ]
    },
    {
     "data": {
      "image/png": "[encoded data removed]",
      "text/plain": [
       "<Figure size 1080x576 with 1 Axes>"
      ]
     },
     "metadata": {
      "needs_background": "light"
     },
     "output_type": "display_data"
    }
   ],
   "source": [
    "fig, axes = plt.subplots(1, figsize=(15, 8), sharey = False)\n",
    "fig.suptitle('Fehlende Werte')\n",
    "fu.save_fig(\"null_werte_in_daten\")\n",
    "\n",
    "sns.heatmap( data = daten.isnull(), cbar = False)\n",
    "plt.draw()"
   ]
  },
  {
   "cell_type": "markdown",
   "id": "f27dbc91-3743-4895-b9f5-496088b024b4",
   "metadata": {},
   "source": [
    "# Transform-Pipeline"
   ]
  },
  {
   "cell_type": "code",
   "execution_count": 14,
   "id": "69df664e-3d07-4203-b0a5-d990b0642236",
   "metadata": {},
   "outputs": [],
   "source": [
    "num_pipeline = Pipeline([\n",
    "('std_scaler', StandardScaler()), #Warum Standard Scaler? keine Normalverteilung in den Daten\n",
    "])\n",
    "\n",
    "num_attribs = list(daten.columns)\n",
    "\n",
    "full_pipeline = ColumnTransformer([\n",
    "        (\"num\", num_pipeline, num_attribs)\n",
    "    ])\n",
    "\n",
    "daten_tr = full_pipeline.fit_transform(daten)"
   ]
  },
  {
   "cell_type": "markdown",
   "id": "afa5eb36-c50e-49c8-af7d-fc8e3711acf2",
   "metadata": {},
   "source": [
    "# Hyperparameter - beste Suchen mit RandomizedSearchCV"
   ]
  },
  {
   "cell_type": "code",
   "execution_count": 15,
   "id": "f2fd825b-f858-42aa-90e6-d042a7d73ba2",
   "metadata": {},
   "outputs": [],
   "source": [
    "from sklearn.ensemble import RandomForestRegressor\n",
    "from sklearn.model_selection import RandomizedSearchCV\n",
    "rfr_pm     = RandomForestRegressor()\n",
    "\n",
    "params = {'n_estimators': range(100,1500),\n",
    "          'n_jobs':       [-1],\n",
    "          'criterion':    ['squared_error','absolute_error'],\n",
    "          'max_depth':    range(1,200)\n",
    "         }\n",
    "k      = 3\n",
    "\n",
    "reg_search = RandomizedSearchCV(rfr_pm, params, scoring= 'neg_root_mean_squared_error', cv = k, verbose = 1, n_iter=200)"
   ]
  },
  {
   "cell_type": "code",
   "execution_count": 16,
   "id": "e75083b8-7137-4f66-a383-e267a77fc19a",
   "metadata": {},
   "outputs": [
    {
     "name": "stdout",
     "output_type": "stream",
     "text": [
      "Fitting 3 folds for each of 200 candidates, totalling 600 fits\n",
      "Wall time: 13min 30s\n"
     ]
    },
    {
     "data": {
      "text/plain": [
       "RandomizedSearchCV(cv=3, estimator=RandomForestRegressor(), n_iter=200,\n",
       "                   param_distributions={'criterion': ['squared_error',\n",
       "                                                      'absolute_error'],\n",
       "                                        'max_depth': range(1, 200),\n",
       "                                        'n_estimators': range(100, 1500),\n",
       "                                        'n_jobs': [-1]},\n",
       "                   scoring='neg_root_mean_squared_error', verbose=1)"
      ]
     },
     "execution_count": 16,
     "metadata": {},
     "output_type": "execute_result"
    }
   ],
   "source": [
    "%%time\n",
    "reg_search.fit(daten_tr, daten_labels)"
   ]
  },
  {
   "cell_type": "code",
   "execution_count": 17,
   "id": "183f30f7-ed96-48ce-bccb-d3764fd48cdd",
   "metadata": {},
   "outputs": [
    {
     "name": "stdout",
     "output_type": "stream",
     "text": [
      "{'n_jobs': -1, 'n_estimators': 452, 'max_depth': 115, 'criterion': 'absolute_error'}\n"
     ]
    }
   ],
   "source": [
    "print(reg_search.best_params_)"
   ]
  },
  {
   "cell_type": "code",
   "execution_count": 18,
   "id": "5dc69068-4500-4de3-9823-c850c2ceb87c",
   "metadata": {
    "tags": []
   },
   "outputs": [
    {
     "data": {
      "text/html": [
       "<div>\n",
       "<style scoped>\n",
       "    .dataframe tbody tr th:only-of-type {\n",
       "        vertical-align: middle;\n",
       "    }\n",
       "\n",
       "    .dataframe tbody tr th {\n",
       "        vertical-align: top;\n",
       "    }\n",
       "\n",
       "    .dataframe thead th {\n",
       "        text-align: right;\n",
       "    }\n",
       "</style>\n",
       "<table border=\"1\" class=\"dataframe\">\n",
       "  <thead>\n",
       "    <tr style=\"text-align: right;\">\n",
       "      <th></th>\n",
       "      <th>mean_fit_time</th>\n",
       "      <th>std_fit_time</th>\n",
       "      <th>mean_score_time</th>\n",
       "      <th>std_score_time</th>\n",
       "      <th>param_n_jobs</th>\n",
       "      <th>param_n_estimators</th>\n",
       "      <th>param_max_depth</th>\n",
       "      <th>param_criterion</th>\n",
       "      <th>params</th>\n",
       "      <th>split0_test_score</th>\n",
       "      <th>split1_test_score</th>\n",
       "      <th>split2_test_score</th>\n",
       "      <th>mean_test_score</th>\n",
       "      <th>std_test_score</th>\n",
       "      <th>rank_test_score</th>\n",
       "    </tr>\n",
       "  </thead>\n",
       "  <tbody>\n",
       "    <tr>\n",
       "      <th>155</th>\n",
       "      <td>0.989595</td>\n",
       "      <td>0.019508</td>\n",
       "      <td>0.073157</td>\n",
       "      <td>0.002589</td>\n",
       "      <td>-1</td>\n",
       "      <td>452</td>\n",
       "      <td>115</td>\n",
       "      <td>absolute_error</td>\n",
       "      <td>{'n_jobs': -1, 'n_estimators': 452, 'max_depth...</td>\n",
       "      <td>-0.058726</td>\n",
       "      <td>-0.051302</td>\n",
       "      <td>-0.050125</td>\n",
       "      <td>-0.053384</td>\n",
       "      <td>0.003808</td>\n",
       "      <td>1</td>\n",
       "    </tr>\n",
       "    <tr>\n",
       "      <th>46</th>\n",
       "      <td>2.635668</td>\n",
       "      <td>0.022442</td>\n",
       "      <td>0.178169</td>\n",
       "      <td>0.008209</td>\n",
       "      <td>-1</td>\n",
       "      <td>1266</td>\n",
       "      <td>56</td>\n",
       "      <td>absolute_error</td>\n",
       "      <td>{'n_jobs': -1, 'n_estimators': 1266, 'max_dept...</td>\n",
       "      <td>-0.058717</td>\n",
       "      <td>-0.051304</td>\n",
       "      <td>-0.050145</td>\n",
       "      <td>-0.053389</td>\n",
       "      <td>0.003797</td>\n",
       "      <td>2</td>\n",
       "    </tr>\n",
       "    <tr>\n",
       "      <th>61</th>\n",
       "      <td>2.999519</td>\n",
       "      <td>0.069219</td>\n",
       "      <td>0.198859</td>\n",
       "      <td>0.002785</td>\n",
       "      <td>-1</td>\n",
       "      <td>1433</td>\n",
       "      <td>139</td>\n",
       "      <td>absolute_error</td>\n",
       "      <td>{'n_jobs': -1, 'n_estimators': 1433, 'max_dept...</td>\n",
       "      <td>-0.058692</td>\n",
       "      <td>-0.051158</td>\n",
       "      <td>-0.050324</td>\n",
       "      <td>-0.053391</td>\n",
       "      <td>0.003764</td>\n",
       "      <td>3</td>\n",
       "    </tr>\n",
       "    <tr>\n",
       "      <th>106</th>\n",
       "      <td>0.153753</td>\n",
       "      <td>0.015964</td>\n",
       "      <td>0.021207</td>\n",
       "      <td>0.001893</td>\n",
       "      <td>-1</td>\n",
       "      <td>118</td>\n",
       "      <td>117</td>\n",
       "      <td>squared_error</td>\n",
       "      <td>{'n_jobs': -1, 'n_estimators': 118, 'max_depth...</td>\n",
       "      <td>-0.057356</td>\n",
       "      <td>-0.051239</td>\n",
       "      <td>-0.051598</td>\n",
       "      <td>-0.053397</td>\n",
       "      <td>0.002803</td>\n",
       "      <td>4</td>\n",
       "    </tr>\n",
       "    <tr>\n",
       "      <th>161</th>\n",
       "      <td>0.990789</td>\n",
       "      <td>0.005250</td>\n",
       "      <td>0.072021</td>\n",
       "      <td>0.005489</td>\n",
       "      <td>-1</td>\n",
       "      <td>447</td>\n",
       "      <td>147</td>\n",
       "      <td>absolute_error</td>\n",
       "      <td>{'n_jobs': -1, 'n_estimators': 447, 'max_depth...</td>\n",
       "      <td>-0.058837</td>\n",
       "      <td>-0.050817</td>\n",
       "      <td>-0.050615</td>\n",
       "      <td>-0.053423</td>\n",
       "      <td>0.003829</td>\n",
       "      <td>5</td>\n",
       "    </tr>\n",
       "  </tbody>\n",
       "</table>\n",
       "</div>"
      ],
      "text/plain": [
       "     mean_fit_time  std_fit_time  mean_score_time  std_score_time  \\\n",
       "155       0.989595      0.019508         0.073157        0.002589   \n",
       "46        2.635668      0.022442         0.178169        0.008209   \n",
       "61        2.999519      0.069219         0.198859        0.002785   \n",
       "106       0.153753      0.015964         0.021207        0.001893   \n",
       "161       0.990789      0.005250         0.072021        0.005489   \n",
       "\n",
       "    param_n_jobs param_n_estimators param_max_depth param_criterion  \\\n",
       "155           -1                452             115  absolute_error   \n",
       "46            -1               1266              56  absolute_error   \n",
       "61            -1               1433             139  absolute_error   \n",
       "106           -1                118             117   squared_error   \n",
       "161           -1                447             147  absolute_error   \n",
       "\n",
       "                                                params  split0_test_score  \\\n",
       "155  {'n_jobs': -1, 'n_estimators': 452, 'max_depth...          -0.058726   \n",
       "46   {'n_jobs': -1, 'n_estimators': 1266, 'max_dept...          -0.058717   \n",
       "61   {'n_jobs': -1, 'n_estimators': 1433, 'max_dept...          -0.058692   \n",
       "106  {'n_jobs': -1, 'n_estimators': 118, 'max_depth...          -0.057356   \n",
       "161  {'n_jobs': -1, 'n_estimators': 447, 'max_depth...          -0.058837   \n",
       "\n",
       "     split1_test_score  split2_test_score  mean_test_score  std_test_score  \\\n",
       "155          -0.051302          -0.050125        -0.053384        0.003808   \n",
       "46           -0.051304          -0.050145        -0.053389        0.003797   \n",
       "61           -0.051158          -0.050324        -0.053391        0.003764   \n",
       "106          -0.051239          -0.051598        -0.053397        0.002803   \n",
       "161          -0.050817          -0.050615        -0.053423        0.003829   \n",
       "\n",
       "     rank_test_score  \n",
       "155                1  \n",
       "46                 2  \n",
       "61                 3  \n",
       "106                4  \n",
       "161                5  "
      ]
     },
     "execution_count": 18,
     "metadata": {},
     "output_type": "execute_result"
    }
   ],
   "source": [
    "pd.DataFrame(reg_search.cv_results_).sort_values(by = ['rank_test_score']).head(5)"
   ]
  },
  {
   "cell_type": "markdown",
   "id": "b326add9-a204-4b40-852f-97af4d06bf6d",
   "metadata": {},
   "source": [
    "# bestes Modell wegschreiben"
   ]
  },
  {
   "cell_type": "code",
   "execution_count": 19,
   "id": "9bb28e9d-d6fe-43ea-85cd-997c976cca9f",
   "metadata": {},
   "outputs": [],
   "source": [
    "prepare_and_predict_pipeline = Pipeline([\n",
    "    ('preparation', full_pipeline),\n",
    "    ('rfr_reg', reg_search.best_estimator_)\n",
    "])"
   ]
  },
  {
   "cell_type": "code",
   "execution_count": 20,
   "id": "3b510aca-c37a-4221-a468-5ef3a9b3c606",
   "metadata": {},
   "outputs": [
    {
     "data": {
      "text/plain": [
       "['pickle/prepare_and_predict_pipeline.pkl']"
      ]
     },
     "execution_count": 20,
     "metadata": {},
     "output_type": "execute_result"
    }
   ],
   "source": [
    "import joblib\n",
    "joblib.dump(prepare_and_predict_pipeline, \"pickle/prepare_and_predict_pipeline.pkl\")"
   ]
  },
  {
   "cell_type": "code",
   "execution_count": 16,
   "id": "99bfcebe-6ad0-4ead-a884-d7cfea612b75",
   "metadata": {},
   "outputs": [],
   "source": [
    "import joblib\n",
    "prepare_and_predict_pipeline_load = joblib.load(\"pickle/prepare_and_predict_pipeline.pkl\")"
   ]
  },
  {
   "cell_type": "markdown",
   "id": "a1596c1f-cea5-442d-a5ce-b34853f519e8",
   "metadata": {},
   "source": [
    "# Vorhersage Test-Daten"
   ]
  },
  {
   "cell_type": "code",
   "execution_count": 17,
   "id": "0ae8ff54-d631-4e24-9b94-2f04b4db5ee2",
   "metadata": {},
   "outputs": [],
   "source": [
    "test_daten_pred = prepare_and_predict_pipeline_load.predict(test_daten)\n",
    "test_daten_pred_series = pd.Series(test_daten_pred, index=test_daten_labels.index)"
   ]
  },
  {
   "cell_type": "code",
   "execution_count": 18,
   "id": "7fe8427f-9ce6-4b51-8281-9c3339c409dd",
   "metadata": {},
   "outputs": [
    {
     "name": "stdout",
     "output_type": "stream",
     "text": [
      "Saving figure vergleich_rfr_prediction_mit_tatsächlichen_werten\n"
     ]
    },
    {
     "data": {
      "image/png": "[encoded data removed]",
      "text/plain": [
       "<Figure size 432x432 with 3 Axes>"
      ]
     },
     "metadata": {
      "needs_background": "light"
     },
     "output_type": "display_data"
    }
   ],
   "source": [
    "sns.jointplot(x=test_daten_labels,y=test_daten_pred_series, kind='reg')\n",
    "fu.save_fig(\"vergleich_rfr_prediction_mit_tatsächlichen_werten\")"
   ]
  },
  {
   "cell_type": "code",
   "execution_count": 19,
   "id": "196959a3-2a20-4bae-b623-17d0c5f89aca",
   "metadata": {},
   "outputs": [
    {
     "name": "stdout",
     "output_type": "stream",
     "text": [
      "RMSE: 0.017313937671897334\n",
      "R2: 0.9971082880610206\n"
     ]
    }
   ],
   "source": [
    "from sklearn import metrics\n",
    "print('RMSE:', np.sqrt(metrics.mean_squared_error(test_daten_labels, test_daten_pred_series)))\n",
    "print('R2:',metrics.r2_score(test_daten_labels, test_daten_pred_series))"
   ]
  },
  {
   "cell_type": "markdown",
   "id": "b17fb928-be8c-477f-a425-0f79e3ab6656",
   "metadata": {},
   "source": [
    "# Wichtigkeit Features"
   ]
  },
  {
   "cell_type": "code",
   "execution_count": 25,
   "id": "3757b45c-a298-4f84-bd66-3550dfcccd91",
   "metadata": {},
   "outputs": [
    {
     "data": {
      "text/plain": [
       "[(0.2776744840907763, 'time_entladen_stark_vorher'),\n",
       " (0.25822242760700315, 'time_laden_leicht_vorher'),\n",
       " (0.23428305218310297, 'time_entladen_leicht_vorher'),\n",
       " (0.06074659963813213, 'zyklus_'),\n",
       " (0.055468040335308125, 'time_pause_vorher'),\n",
       " (0.04335285364322549, 'time_temp_hoch_vorher'),\n",
       " (0.0216060353039273, 'time_laden_stark_vorher'),\n",
       " (0.019362217937416628, 'temperature_amin'),\n",
       " (0.014994219881302116, 'temperature_amax'),\n",
       " (0.014290069379805788, 'temperature_mean')]"
      ]
     },
     "execution_count": 25,
     "metadata": {},
     "output_type": "execute_result"
    }
   ],
   "source": [
    "sorted(zip(reg_search.best_estimator_.feature_importances_, daten.columns), reverse=True)"
   ]
  },
  {
   "cell_type": "markdown",
   "id": "3197b90c-4214-4f0c-83fc-782c58725536",
   "metadata": {},
   "source": [
    "# Ent-/Laden und Anzahl an Wechsel sind wichtig\n",
    "\n",
    "Sowohl in der Korrelation und von dem RFR werden die folgenden 5 Featrues als Wichtig angesehen:\n",
    "* time_laden_leicht_vorher\n",
    "* time_laden_stark_vorher\n",
    "* time_entladen_leicht_vorher\n",
    "* time_entladen_stark_vorher\n",
    "* zyklus_\n",
    "\n",
    "## offene Frage: Wie groß ist der Einfluss auf die Amperestunden? Um wie viel sinken die Amperestunden bei einer Minute der unterschiedlichen Verwendungen? Um wie viel ein Wechsel der Verwendung?\n",
    "#### dies kann mit einer klassischen Regression nur mit den richtigen Features und den zugehörigen Regressionskoeffizienten bestimmt werden:"
   ]
  },
  {
   "cell_type": "code",
   "execution_count": 29,
   "id": "c4ddfede-d688-4150-bd1c-2dfd682e58c6",
   "metadata": {},
   "outputs": [
    {
     "data": {
      "text/plain": [
       "LinearRegression()"
      ]
     },
     "execution_count": 29,
     "metadata": {},
     "output_type": "execute_result"
    }
   ],
   "source": [
    "from sklearn.linear_model import LinearRegression   \n",
    "\n",
    "\n",
    "\n",
    "ss = StandardScaler()\n",
    "daten_lr = ss.fit_transform(daten[[\"time_temp_hoch_vorher\",\"time_laden_leicht_vorher\",\"time_laden_stark_vorher\",\"time_entladen_leicht_vorher\",\"time_entladen_stark_vorher\",\"zyklus_\"]]) \n",
    " \n",
    "lr = LinearRegression()  \n",
    " \n",
    "lr.fit(daten_lr, daten_labels)"
   ]
  },
  {
   "cell_type": "code",
   "execution_count": 34,
   "id": "8961af96-9554-4797-af6e-eab60c17b3bf",
   "metadata": {},
   "outputs": [
    {
     "data": {
      "text/html": [
       "<div>\n",
       "<style scoped>\n",
       "    .dataframe tbody tr th:only-of-type {\n",
       "        vertical-align: middle;\n",
       "    }\n",
       "\n",
       "    .dataframe tbody tr th {\n",
       "        vertical-align: top;\n",
       "    }\n",
       "\n",
       "    .dataframe thead th {\n",
       "        text-align: right;\n",
       "    }\n",
       "</style>\n",
       "<table border=\"1\" class=\"dataframe\">\n",
       "  <thead>\n",
       "    <tr style=\"text-align: right;\">\n",
       "      <th></th>\n",
       "      <th>wert</th>\n",
       "    </tr>\n",
       "    <tr>\n",
       "      <th>feature</th>\n",
       "      <th></th>\n",
       "    </tr>\n",
       "  </thead>\n",
       "  <tbody>\n",
       "    <tr>\n",
       "      <th>time_temp_hoch_vorher</th>\n",
       "      <td>2.638642e+06</td>\n",
       "    </tr>\n",
       "    <tr>\n",
       "      <th>time_laden_leicht_vorher</th>\n",
       "      <td>3.078875e+06</td>\n",
       "    </tr>\n",
       "    <tr>\n",
       "      <th>time_laden_stark_vorher</th>\n",
       "      <td>3.832648e+04</td>\n",
       "    </tr>\n",
       "    <tr>\n",
       "      <th>time_entladen_leicht_vorher</th>\n",
       "      <td>1.271029e+06</td>\n",
       "    </tr>\n",
       "    <tr>\n",
       "      <th>time_entladen_stark_vorher</th>\n",
       "      <td>2.051081e+05</td>\n",
       "    </tr>\n",
       "    <tr>\n",
       "      <th>zyklus_</th>\n",
       "      <td>2.916915e+04</td>\n",
       "    </tr>\n",
       "  </tbody>\n",
       "</table>\n",
       "</div>"
      ],
      "text/plain": [
       "                                     wert\n",
       "feature                                  \n",
       "time_temp_hoch_vorher        2.638642e+06\n",
       "time_laden_leicht_vorher     3.078875e+06\n",
       "time_laden_stark_vorher      3.832648e+04\n",
       "time_entladen_leicht_vorher  1.271029e+06\n",
       "time_entladen_stark_vorher   2.051081e+05\n",
       "zyklus_                      2.916915e+04"
      ]
     },
     "execution_count": 34,
     "metadata": {},
     "output_type": "execute_result"
    }
   ],
   "source": [
    "coefs = pd.DataFrame(zip(daten[[\"time_temp_hoch_vorher\",\"time_laden_leicht_vorher\",\"time_laden_stark_vorher\",\"time_entladen_leicht_vorher\",\"time_entladen_stark_vorher\",\"zyklus_\"]].columns, lr.coef_ * np.sqrt(ss.var_) + ss.mean_), columns=[\"feature\",\"wert\"])\n",
    "coefs.set_index('feature', inplace=True)\n",
    "coefs"
   ]
  },
  {
   "cell_type": "markdown",
   "id": "947cdaca-e124-48f6-a305-b2870a4d31d7",
   "metadata": {},
   "source": [
    "### Wie viele Stunden in welcher Benutzung um die Amperestunden um 1 zu reduzieren?"
   ]
  },
  {
   "cell_type": "code",
   "execution_count": 35,
   "id": "6cd52418-c3a5-422d-b863-2f44ed956bee",
   "metadata": {},
   "outputs": [],
   "source": [
    "zeit_coefs = coefs.loc[[\"time_temp_hoch_vorher\",\"time_laden_leicht_vorher\",\"time_laden_stark_vorher\",\"time_entladen_leicht_vorher\",\"time_entladen_stark_vorher\"],[\"wert\"]]"
   ]
  },
  {
   "cell_type": "code",
   "execution_count": 37,
   "id": "9c1a43b1-4070-406e-a499-5e7f9b054cf9",
   "metadata": {},
   "outputs": [
    {
     "data": {
      "text/plain": [
       "feature\n",
       "time_temp_hoch_vorher          732.956234\n",
       "time_laden_leicht_vorher       855.243129\n",
       "time_laden_stark_vorher         10.646244\n",
       "time_entladen_leicht_vorher    353.063737\n",
       "time_entladen_stark_vorher      56.974479\n",
       "Name: wert, dtype: float64"
      ]
     },
     "execution_count": 37,
     "metadata": {},
     "output_type": "execute_result"
    }
   ],
   "source": [
    "zeit_coefs[\"wert\"] / 3600"
   ]
  },
  {
   "cell_type": "markdown",
   "id": "8279ef48-0e8c-4ff0-8c63-82706327bed2",
   "metadata": {},
   "source": [
    "### Wie viele Benutzungswechsel um die Amperestunden um 1 zu reduzieren?"
   ]
  },
  {
   "cell_type": "code",
   "execution_count": 38,
   "id": "6160e8de-26c3-4b50-865a-abc342688b67",
   "metadata": {},
   "outputs": [
    {
     "data": {
      "text/plain": [
       "feature\n",
       "zyklus_    29169.150846\n",
       "Name: wert, dtype: float64"
      ]
     },
     "execution_count": 38,
     "metadata": {},
     "output_type": "execute_result"
    }
   ],
   "source": [
    "zyk_coef = coefs.loc[[\"zyklus_\"],[\"wert\"]]\n",
    "zyk_coef[\"wert\"] "
   ]
  },
  {
   "cell_type": "code",
   "execution_count": null,
   "id": "8a920ecf-c003-4d91-8ba6-e0e9fd4565ce",
   "metadata": {},
   "outputs": [],
   "source": []
  }
 ],
 "metadata": {
  "kernelspec": {
   "display_name": "battery_failure",
   "language": "python",
   "name": "battery_failure"
  },
  "language_info": {
   "codemirror_mode": {
    "name": "ipython",
    "version": 3
   },
   "file_extension": ".py",
   "mimetype": "text/x-python",
   "name": "python",
   "nbconvert_exporter": "python",
   "pygments_lexer": "ipython3",
   "version": "3.8.12"
  }
 },
 "nbformat": 4,
 "nbformat_minor": 5
}
